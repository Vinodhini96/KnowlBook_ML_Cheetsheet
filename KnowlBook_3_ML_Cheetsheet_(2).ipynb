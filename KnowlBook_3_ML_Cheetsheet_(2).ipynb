{
  "cells": [
    {
      "cell_type": "markdown",
      "metadata": {
        "id": "view-in-github",
        "colab_type": "text"
      },
      "source": [
        "<a href=\"https://colab.research.google.com/github/Vinodhini96/KnowlBook_ML_Cheetsheet/blob/main/KnowlBook_3_ML_Cheetsheet_(2).ipynb\" target=\"_parent\"><img src=\"https://colab.research.google.com/assets/colab-badge.svg\" alt=\"Open In Colab\"/></a>"
      ]
    },
    {
      "cell_type": "markdown",
      "id": "da4593d4",
      "metadata": {
        "id": "da4593d4"
      },
      "source": [
        "# Introduction to Machine Learning:\n",
        "by\n",
        "\n",
        "Vinodhini Rajamanickam"
      ]
    },
    {
      "cell_type": "markdown",
      "source": [
        "![hello](https://drive.google.com/uc?export=view&id=1Aly_uHA_lcbkLk2NOtEaC4PM59JS81nU)"
      ],
      "metadata": {
        "id": "PG0ICiowwgxH"
      },
      "id": "PG0ICiowwgxH"
    },
    {
      "cell_type": "markdown",
      "id": "47ce4033",
      "metadata": {
        "id": "47ce4033"
      },
      "source": [
        "# Chapter 1: What is Machine Learning?"
      ]
    },
    {
      "cell_type": "markdown",
      "id": "b4716389",
      "metadata": {
        "id": "b4716389"
      },
      "source": [
        "Machine Learning (ML) is a subset of artificial intelligence (AI) that focuses on the development of algorithms and statistical models that enable computer systems to learn and make predictions or decisions without being explicitly programmed. In essence, it's about teaching computers to learn from data and improve their performance on specific tasks over time."
      ]
    },
    {
      "cell_type": "markdown",
      "source": [
        "![hello](https://drive.google.com/uc?export=view&id=1aDMOTQnrDs3L4UmTG9V7C-ctJzSe0ZiX)\n"
      ],
      "metadata": {
        "id": "WJEOY_IOyoSz"
      },
      "id": "WJEOY_IOyoSz"
    },
    {
      "cell_type": "markdown",
      "id": "01b29380",
      "metadata": {
        "id": "01b29380"
      },
      "source": [
        "<h3>Key Concepts:</h3>\n",
        "\n",
        "<h4>1.Data:</h4>\n",
        "\n",
        "Machine learning relies on data as its primary source of knowledge. This data can be of various types, including `text`, `images`, `numbers`, and more.\n",
        "\n",
        "<h4>2. Learning:</h4> Machine learning algorithms use data to identify patterns, relationships, and trends. These algorithms learn from data by adjusting their internal parameters to optimize their performance.\n",
        "\n",
        "<h4>3. Prediction:</h4> Once a machine learning model has been trained on data, it can make predictions or decisions based on new, unseen data. These predictions can range from classifying objects in images to forecasting future values.\n",
        "\n",
        "<h4>4. Generalization:</h4> A good machine learning model should not only perform well on the data it was trained on but also generalize its knowledge to new, unseen data. Generalization ensures that the model is useful in practical applications.\n",
        "\n",
        "    \n",
        "<h4>5. Algorithms and Models:</h4>\n",
        "\n",
        "Machine learning encompasses a wide range of algorithms and models, such as `decision trees`, `neural networks`, `support vector machines`, and more. The choice of algorithm depends on the specific problem and dataset.\n",
        "\n",
        "<h4>6. Evaluation:</h4>\n",
        "\n",
        "The performance of a machine learning model is assessed using various metrics, depending on the type of problem. Common evaluation metrics include `accuracy`, `precision`, `recall`, `F1-score`, `mean squared error (MSE)`, and `R-squared`.\n",
        "    \n",
        "</div>"
      ]
    },
    {
      "cell_type": "markdown",
      "id": "1e886194",
      "metadata": {
        "id": "1e886194"
      },
      "source": [
        "# Chapter 2: Applications of Machine Learning:"
      ]
    },
    {
      "cell_type": "markdown",
      "id": "7fc026c0",
      "metadata": {
        "id": "7fc026c0"
      },
      "source": [
        "Machine Learning (ML) has found applications across a wide range of industries and domains. Its ability to analyze data, identify patterns, and make predictions or decisions without explicit programming has led to numerous practical uses. Here are some notable applications of machine learning:"
      ]
    },
    {
      "cell_type": "markdown",
      "source": [
        "![hello](https://drive.google.com/uc?export=view&id=1KXCQ4tzI7aJCGptjhA5UiS9eQUG73cU9)\n"
      ],
      "metadata": {
        "id": "bQNgkUDky-WJ"
      },
      "id": "bQNgkUDky-WJ"
    },
    {
      "cell_type": "markdown",
      "source": [
        "![hello](https://drive.google.com/uc?export=view&id=1F86xZpzE3P6q2w_TYTlYTp4vYPevQVky)"
      ],
      "metadata": {
        "id": "ZDaxTzp_y94d"
      },
      "id": "ZDaxTzp_y94d"
    },
    {
      "cell_type": "markdown",
      "source": [
        "![hello](https://drive.google.com/uc?export=view&id=1oRgErbFqDWiEEVL08lBqjqxV3-7PraGb)\n"
      ],
      "metadata": {
        "id": "5UWAk4qwy9zD"
      },
      "id": "5UWAk4qwy9zD"
    },
    {
      "cell_type": "markdown",
      "id": "9d669ab2",
      "metadata": {
        "id": "9d669ab2"
      },
      "source": [
        "# Chapter 3: Types of machine learning"
      ]
    },
    {
      "cell_type": "markdown",
      "source": [
        "![hello](https://drive.google.com/uc?export=view&id=1LaZ7nF3ahFCutUdOeeji9F2BtZyQCpWd)\n"
      ],
      "metadata": {
        "id": "H2vrh9_PzHXP"
      },
      "id": "H2vrh9_PzHXP"
    },
    {
      "cell_type": "markdown",
      "id": "6b3a12ee",
      "metadata": {
        "id": "6b3a12ee"
      },
      "source": [
        "## 1. Supervised Learning:\n",
        "n supervised learning, the algorithm learns from a labeled dataset, where each input data point has a corresponding output or target value. The goal is to learn a mapping from input features to the correct output.\n",
        "\n",
        "Example: Image classification, where the algorithm is trained to recognize objects in images and classify them into predefined categories.\n",
        "\n",
        "Example Code (Python - Classification):"
      ]
    },
    {
      "cell_type": "code",
      "execution_count": null,
      "id": "a2771ba5",
      "metadata": {
        "id": "a2771ba5",
        "outputId": "b70a3c0e-0be5-4801-f8d7-978b45cc2916"
      },
      "outputs": [
        {
          "data": {
            "text/plain": [
              "array([2, 1, 1, 1, 1, 2, 1, 0, 0, 2, 0, 0, 0, 2, 2, 2, 1, 1, 2, 0, 0, 1,\n",
              "       0, 2, 1, 2, 0, 0, 1, 2])"
            ]
          },
          "execution_count": 16,
          "metadata": {},
          "output_type": "execute_result"
        }
      ],
      "source": [
        "from sklearn import datasets, model_selection\n",
        "from sklearn.neighbors import KNeighborsClassifier\n",
        "\n",
        "# Load the Iris dataset\n",
        "iris = datasets.load_iris()\n",
        "X_train, X_test, y_train, y_test = model_selection.train_test_split(iris.data, iris.target, test_size=0.2)\n",
        "\n",
        "# Create a k-nearest neighbors classifier\n",
        "knn = KNeighborsClassifier(n_neighbors=3)\n",
        "\n",
        "# Train the model\n",
        "knn.fit(X_train, y_train)\n",
        "\n",
        "# Make predictions on test data\n",
        "y_pred = knn.predict(X_test)\n",
        "y_pred\n"
      ]
    },
    {
      "cell_type": "code",
      "execution_count": null,
      "id": "8de2b3be",
      "metadata": {
        "id": "8de2b3be",
        "outputId": "318b0075-ecf7-4baf-af7c-264e6caecae1"
      },
      "outputs": [
        {
          "data": {
            "image/png": "[encoded data removed]",
            "text/plain": [
              "<Figure size 576x432 with 2 Axes>"
            ]
          },
          "metadata": {
            "needs_background": "light"
          },
          "output_type": "display_data"
        },
        {
          "name": "stdout",
          "output_type": "stream",
          "text": [
            "Classification Report:\n",
            "               precision    recall  f1-score   support\n",
            "\n",
            "      setosa       1.00      1.00      1.00        10\n",
            "  versicolor       1.00      0.83      0.91        12\n",
            "   virginica       0.80      1.00      0.89         8\n",
            "\n",
            "    accuracy                           0.93        30\n",
            "   macro avg       0.93      0.94      0.93        30\n",
            "weighted avg       0.95      0.93      0.93        30\n",
            "\n"
          ]
        }
      ],
      "source": [
        "import matplotlib.pyplot as plt\n",
        "import seaborn as sns\n",
        "from sklearn.metrics import confusion_matrix, classification_report\n",
        "\n",
        "# Create a confusion matrix\n",
        "conf_matrix = confusion_matrix(y_test, y_pred)\n",
        "\n",
        "# Create a classification report\n",
        "class_report = classification_report(y_test, y_pred, target_names=iris.target_names)\n",
        "\n",
        "# Visualize the confusion matrix\n",
        "plt.figure(figsize=(8, 6))\n",
        "sns.heatmap(conf_matrix, annot=True, fmt=\"d\", cmap=\"Blues\", xticklabels=iris.target_names, yticklabels=iris.target_names)\n",
        "plt.xlabel(\"Predicted\")\n",
        "plt.ylabel(\"Actual\")\n",
        "plt.title(\"Confusion Matrix\")\n",
        "plt.show()\n",
        "\n",
        "# Print the classification report\n",
        "print(\"Classification Report:\\n\", class_report)\n"
      ]
    },
    {
      "cell_type": "markdown",
      "id": "24f34651",
      "metadata": {
        "id": "24f34651"
      },
      "source": [
        "## 2. Unsupervised Learning:\n",
        "`Unsupervised learning` involves training an algorithm on an unlabeled dataset, where there are no predefined output values. The goal is to discover patterns, relationships, or structure within the data.\n",
        "\n",
        "Example: Clustering customer data to identify distinct customer segments based on their purchasing behavior.\n",
        "\n",
        "Example Code (Clustering):"
      ]
    },
    {
      "cell_type": "code",
      "execution_count": null,
      "id": "a1430576",
      "metadata": {
        "id": "a1430576",
        "outputId": "b5cf07d8-faec-4f4d-860c-ca2a782a7ef5"
      },
      "outputs": [
        {
          "data": {
            "image/png": "[encoded data removed]",
            "text/plain": [
              "<Figure size 432x288 with 1 Axes>"
            ]
          },
          "metadata": {
            "needs_background": "light"
          },
          "output_type": "display_data"
        }
      ],
      "source": [
        "from sklearn.cluster import KMeans\n",
        "import matplotlib.pyplot as plt\n",
        "\n",
        "# Generate sample data\n",
        "data = [[1, 2], [1, 4], [1, 0], [4, 2], [4, 4], [4, 0]]\n",
        "kmeans = KMeans(n_clusters=2)  # Specify the number of clusters\n",
        "kmeans.fit(data)\n",
        "\n",
        "# Get cluster labels and centroids\n",
        "labels = kmeans.labels_\n",
        "centroids = kmeans.cluster_centers_\n",
        "\n",
        "# Visualize the clusters\n",
        "for i in range(len(data)):\n",
        "    color = 'r' if labels[i] == 0 else 'b'\n",
        "    plt.scatter(data[i][0], data[i][1], c=color)\n",
        "plt.scatter(centroids[:, 0], centroids[:, 1], marker='x', s=200, linewidths=3, color='g')\n",
        "plt.show()\n"
      ]
    },
    {
      "cell_type": "markdown",
      "id": "823b4b35",
      "metadata": {
        "id": "823b4b35"
      },
      "source": [
        "## 3. Reinforcement Learning:\n",
        "Reinforcement learning is about training agents to make sequences of decisions in an environment to maximize a reward signal. Agents learn from the consequences of their actions, and the goal is to find an optimal policy that leads to the highest cumulative reward.\n",
        "\n",
        "Example:training an AI agent to navigate a grid world while maximizing its cumulative rewards over time using Q-learning.\n",
        "\n",
        "Example Code (Reinforcement Learning):"
      ]
    },
    {
      "cell_type": "code",
      "execution_count": null,
      "id": "14a3ccb1",
      "metadata": {
        "id": "14a3ccb1",
        "outputId": "0925d58f-39f9-4567-e2f9-6b56a25da8a4"
      },
      "outputs": [
        {
          "name": "stdout",
          "output_type": "stream",
          "text": [
            "Episode 0: Total Reward = 1.0\n",
            "Episode 1: Total Reward = 1.0\n",
            "Episode 2: Total Reward = 1.0\n",
            "Episode 3: Total Reward = 1.0\n",
            "Episode 4: Total Reward = 1.0\n",
            "Episode 5: Total Reward = 1.0\n",
            "Episode 6: Total Reward = 1.0\n",
            "Episode 7: Total Reward = 1.0\n",
            "Episode 8: Total Reward = 1.0\n",
            "Episode 9: Total Reward = 1.0\n",
            "Episode 10: Total Reward = 1.0\n",
            "Episode 11: Total Reward = 1.0\n",
            "Episode 12: Total Reward = 1.0\n",
            "Episode 13: Total Reward = 1.0\n",
            "Episode 14: Total Reward = 1.0\n",
            "Episode 15: Total Reward = 1.0\n",
            "Episode 16: Total Reward = 1.0\n",
            "Episode 17: Total Reward = 1.0\n",
            "Episode 18: Total Reward = 1.0\n",
            "Episode 19: Total Reward = 1.0\n",
            "Episode 20: Total Reward = 1.0\n",
            "Episode 21: Total Reward = 1.0\n",
            "Episode 22: Total Reward = 1.0\n",
            "Episode 23: Total Reward = 1.0\n",
            "Episode 24: Total Reward = 1.0\n",
            "Episode 25: Total Reward = 1.0\n",
            "Episode 26: Total Reward = 1.0\n",
            "Episode 27: Total Reward = 1.0\n",
            "Episode 28: Total Reward = 1.0\n",
            "Episode 29: Total Reward = 1.0\n",
            "Episode 30: Total Reward = 1.0\n",
            "Episode 31: Total Reward = 1.0\n",
            "Episode 32: Total Reward = 1.0\n",
            "Episode 33: Total Reward = 1.0\n",
            "Episode 34: Total Reward = 1.0\n",
            "Episode 35: Total Reward = 1.0\n",
            "Episode 36: Total Reward = 1.0\n",
            "Episode 37: Total Reward = 1.0\n",
            "Episode 38: Total Reward = 1.0\n",
            "Episode 39: Total Reward = 1.0\n",
            "Episode 40: Total Reward = 1.0\n",
            "Episode 41: Total Reward = 1.0\n",
            "Episode 42: Total Reward = 1.0\n",
            "Episode 43: Total Reward = 1.0\n",
            "Episode 44: Total Reward = 1.0\n",
            "Episode 45: Total Reward = 1.0\n",
            "Episode 46: Total Reward = 1.0\n",
            "Episode 47: Total Reward = 1.0\n",
            "Episode 48: Total Reward = 1.0\n",
            "Episode 49: Total Reward = 1.0\n",
            "Episode 50: Total Reward = 1.0\n",
            "Episode 51: Total Reward = 1.0\n",
            "Episode 52: Total Reward = 1.0\n",
            "Episode 53: Total Reward = 1.0\n",
            "Episode 54: Total Reward = 1.0\n",
            "Episode 55: Total Reward = 1.0\n",
            "Episode 56: Total Reward = 1.0\n",
            "Episode 57: Total Reward = 1.0\n",
            "Episode 58: Total Reward = 1.0\n",
            "Episode 59: Total Reward = 1.0\n",
            "Episode 60: Total Reward = 1.0\n",
            "Episode 61: Total Reward = 1.0\n",
            "Episode 62: Total Reward = 1.0\n",
            "Episode 63: Total Reward = 1.0\n",
            "Episode 64: Total Reward = 1.0\n",
            "Episode 65: Total Reward = 1.0\n",
            "Episode 66: Total Reward = 1.0\n",
            "Episode 67: Total Reward = 1.0\n",
            "Episode 68: Total Reward = 1.0\n",
            "Episode 69: Total Reward = 1.0\n",
            "Episode 70: Total Reward = 1.0\n",
            "Episode 71: Total Reward = 1.0\n",
            "Episode 72: Total Reward = 1.0\n",
            "Episode 73: Total Reward = 1.0\n",
            "Episode 74: Total Reward = 1.0\n",
            "Episode 75: Total Reward = 1.0\n",
            "Episode 76: Total Reward = 1.0\n",
            "Episode 77: Total Reward = 1.0\n",
            "Episode 78: Total Reward = 1.0\n",
            "Episode 79: Total Reward = 1.0\n",
            "Episode 80: Total Reward = 1.0\n",
            "Episode 81: Total Reward = 1.0\n",
            "Episode 82: Total Reward = 1.0\n",
            "Episode 83: Total Reward = 1.0\n",
            "Episode 84: Total Reward = 1.0\n",
            "Episode 85: Total Reward = 1.0\n",
            "Episode 86: Total Reward = 1.0\n",
            "Episode 87: Total Reward = 1.0\n",
            "Episode 88: Total Reward = 1.0\n",
            "Episode 89: Total Reward = 1.0\n",
            "Episode 90: Total Reward = 1.0\n",
            "Episode 91: Total Reward = 1.0\n",
            "Episode 92: Total Reward = 1.0\n",
            "Episode 93: Total Reward = 1.0\n",
            "Episode 94: Total Reward = 1.0\n",
            "Episode 95: Total Reward = 1.0\n",
            "Episode 96: Total Reward = 1.0\n",
            "Episode 97: Total Reward = 1.0\n",
            "Episode 98: Total Reward = 1.0\n",
            "Episode 99: Total Reward = 1.0\n",
            "Episode 100: Total Reward = 1.0\n",
            "Episode 101: Total Reward = 1.0\n",
            "Episode 102: Total Reward = 1.0\n",
            "Episode 103: Total Reward = 1.0\n",
            "Episode 104: Total Reward = 1.0\n",
            "Episode 105: Total Reward = 1.0\n",
            "Episode 106: Total Reward = 1.0\n",
            "Episode 107: Total Reward = 1.0\n",
            "Episode 108: Total Reward = 1.0\n",
            "Episode 109: Total Reward = 1.0\n",
            "Episode 110: Total Reward = 1.0\n",
            "Episode 111: Total Reward = 1.0\n",
            "Episode 112: Total Reward = 1.0\n",
            "Episode 113: Total Reward = 1.0\n",
            "Episode 114: Total Reward = 1.0\n",
            "Episode 115: Total Reward = 1.0\n",
            "Episode 116: Total Reward = 1.0\n",
            "Episode 117: Total Reward = 1.0\n",
            "Episode 118: Total Reward = 1.0\n",
            "Episode 119: Total Reward = 1.0\n",
            "Episode 120: Total Reward = 1.0\n",
            "Episode 121: Total Reward = 1.0\n",
            "Episode 122: Total Reward = 1.0\n",
            "Episode 123: Total Reward = 1.0\n",
            "Episode 124: Total Reward = 1.0\n",
            "Episode 125: Total Reward = 1.0\n",
            "Episode 126: Total Reward = 1.0\n",
            "Episode 127: Total Reward = 1.0\n",
            "Episode 128: Total Reward = 1.0\n",
            "Episode 129: Total Reward = 1.0\n",
            "Episode 130: Total Reward = 1.0\n",
            "Episode 131: Total Reward = 1.0\n",
            "Episode 132: Total Reward = 1.0\n",
            "Episode 133: Total Reward = 1.0\n",
            "Episode 134: Total Reward = 1.0\n",
            "Episode 135: Total Reward = 1.0\n",
            "Episode 136: Total Reward = 1.0\n",
            "Episode 137: Total Reward = 1.0\n",
            "Episode 138: Total Reward = 1.0\n",
            "Episode 139: Total Reward = 1.0\n",
            "Episode 140: Total Reward = 1.0\n",
            "Episode 141: Total Reward = 1.0\n",
            "Episode 142: Total Reward = 1.0\n",
            "Episode 143: Total Reward = 1.0\n",
            "Episode 144: Total Reward = 1.0\n",
            "Episode 145: Total Reward = 1.0\n",
            "Episode 146: Total Reward = 1.0\n",
            "Episode 147: Total Reward = 1.0\n",
            "Episode 148: Total Reward = 1.0\n",
            "Episode 149: Total Reward = 1.0\n",
            "Episode 150: Total Reward = 1.0\n",
            "Episode 151: Total Reward = 1.0\n",
            "Episode 152: Total Reward = 1.0\n",
            "Episode 153: Total Reward = 1.0\n",
            "Episode 154: Total Reward = 1.0\n",
            "Episode 155: Total Reward = 1.0\n",
            "Episode 156: Total Reward = 1.0\n",
            "Episode 157: Total Reward = 1.0\n",
            "Episode 158: Total Reward = 1.0\n",
            "Episode 159: Total Reward = 1.0\n",
            "Episode 160: Total Reward = 1.0\n",
            "Episode 161: Total Reward = 1.0\n",
            "Episode 162: Total Reward = 1.0\n",
            "Episode 163: Total Reward = 1.0\n",
            "Episode 164: Total Reward = 1.0\n",
            "Episode 165: Total Reward = 1.0\n",
            "Episode 166: Total Reward = 1.0\n",
            "Episode 167: Total Reward = 1.0\n",
            "Episode 168: Total Reward = 1.0\n",
            "Episode 169: Total Reward = 1.0\n",
            "Episode 170: Total Reward = 1.0\n",
            "Episode 171: Total Reward = 1.0\n",
            "Episode 172: Total Reward = 1.0\n",
            "Episode 173: Total Reward = 1.0\n",
            "Episode 174: Total Reward = 1.0\n",
            "Episode 175: Total Reward = 1.0\n",
            "Episode 176: Total Reward = 1.0\n",
            "Episode 177: Total Reward = 1.0\n",
            "Episode 178: Total Reward = 1.0\n",
            "Episode 179: Total Reward = 1.0\n",
            "Episode 180: Total Reward = 1.0\n",
            "Episode 181: Total Reward = 1.0\n",
            "Episode 182: Total Reward = 1.0\n",
            "Episode 183: Total Reward = 1.0\n",
            "Episode 184: Total Reward = 1.0\n",
            "Episode 185: Total Reward = 1.0\n",
            "Episode 186: Total Reward = 1.0\n",
            "Episode 187: Total Reward = 1.0\n",
            "Episode 188: Total Reward = 1.0\n",
            "Episode 189: Total Reward = 1.0\n",
            "Episode 190: Total Reward = 1.0\n",
            "Episode 191: Total Reward = 1.0\n",
            "Episode 192: Total Reward = 1.0\n",
            "Episode 193: Total Reward = 1.0\n",
            "Episode 194: Total Reward = 1.0\n",
            "Episode 195: Total Reward = 1.0\n",
            "Episode 196: Total Reward = 1.0\n",
            "Episode 197: Total Reward = 1.0\n",
            "Episode 198: Total Reward = 1.0\n",
            "Episode 199: Total Reward = 1.0\n",
            "Episode 200: Total Reward = 1.0\n",
            "Episode 201: Total Reward = 1.0\n",
            "Episode 202: Total Reward = 1.0\n",
            "Episode 203: Total Reward = 1.0\n",
            "Episode 204: Total Reward = 1.0\n",
            "Episode 205: Total Reward = 1.0\n",
            "Episode 206: Total Reward = 1.0\n",
            "Episode 207: Total Reward = 1.0\n",
            "Episode 208: Total Reward = 1.0\n",
            "Episode 209: Total Reward = 1.0\n",
            "Episode 210: Total Reward = 1.0\n",
            "Episode 211: Total Reward = 1.0\n",
            "Episode 212: Total Reward = 1.0\n",
            "Episode 213: Total Reward = 1.0\n",
            "Episode 214: Total Reward = 1.0\n",
            "Episode 215: Total Reward = 1.0\n",
            "Episode 216: Total Reward = 1.0\n",
            "Episode 217: Total Reward = 1.0\n",
            "Episode 218: Total Reward = 1.0\n",
            "Episode 219: Total Reward = 1.0\n",
            "Episode 220: Total Reward = 1.0\n",
            "Episode 221: Total Reward = 1.0\n",
            "Episode 222: Total Reward = 1.0\n",
            "Episode 223: Total Reward = 1.0\n",
            "Episode 224: Total Reward = 1.0\n",
            "Episode 225: Total Reward = 1.0\n",
            "Episode 226: Total Reward = 1.0\n",
            "Episode 227: Total Reward = 1.0\n",
            "Episode 228: Total Reward = 1.0\n",
            "Episode 229: Total Reward = 1.0\n",
            "Episode 230: Total Reward = 1.0\n",
            "Episode 231: Total Reward = 1.0\n",
            "Episode 232: Total Reward = 1.0\n",
            "Episode 233: Total Reward = 1.0\n",
            "Episode 234: Total Reward = 1.0\n",
            "Episode 235: Total Reward = 1.0\n",
            "Episode 236: Total Reward = 1.0\n",
            "Episode 237: Total Reward = 1.0\n",
            "Episode 238: Total Reward = 1.0\n",
            "Episode 239: Total Reward = 1.0\n",
            "Episode 240: Total Reward = 1.0\n",
            "Episode 241: Total Reward = 1.0\n",
            "Episode 242: Total Reward = 1.0\n",
            "Episode 243: Total Reward = 1.0\n",
            "Episode 244: Total Reward = 1.0\n",
            "Episode 245: Total Reward = 1.0\n",
            "Episode 246: Total Reward = 1.0\n",
            "Episode 247: Total Reward = 1.0\n",
            "Episode 248: Total Reward = 1.0\n",
            "Episode 249: Total Reward = 1.0\n",
            "Episode 250: Total Reward = 1.0\n",
            "Episode 251: Total Reward = 1.0\n",
            "Episode 252: Total Reward = 1.0\n",
            "Episode 253: Total Reward = 1.0\n",
            "Episode 254: Total Reward = 1.0\n",
            "Episode 255: Total Reward = 1.0\n",
            "Episode 256: Total Reward = 1.0\n",
            "Episode 257: Total Reward = 1.0\n",
            "Episode 258: Total Reward = 1.0\n",
            "Episode 259: Total Reward = 1.0\n",
            "Episode 260: Total Reward = 1.0\n",
            "Episode 261: Total Reward = 1.0\n",
            "Episode 262: Total Reward = 1.0\n",
            "Episode 263: Total Reward = 1.0\n",
            "Episode 264: Total Reward = 1.0\n",
            "Episode 265: Total Reward = 1.0\n",
            "Episode 266: Total Reward = 1.0\n",
            "Episode 267: Total Reward = 1.0\n",
            "Episode 268: Total Reward = 1.0\n",
            "Episode 269: Total Reward = 1.0\n",
            "Episode 270: Total Reward = 1.0\n",
            "Episode 271: Total Reward = 1.0\n",
            "Episode 272: Total Reward = 1.0\n",
            "Episode 273: Total Reward = 1.0\n",
            "Episode 274: Total Reward = 1.0\n",
            "Episode 275: Total Reward = 1.0\n",
            "Episode 276: Total Reward = 1.0\n",
            "Episode 277: Total Reward = 1.0\n",
            "Episode 278: Total Reward = 1.0\n",
            "Episode 279: Total Reward = 1.0\n",
            "Episode 280: Total Reward = 1.0\n",
            "Episode 281: Total Reward = 1.0\n",
            "Episode 282: Total Reward = 1.0\n",
            "Episode 283: Total Reward = 1.0\n",
            "Episode 284: Total Reward = 1.0\n",
            "Episode 285: Total Reward = 1.0\n",
            "Episode 286: Total Reward = 1.0\n",
            "Episode 287: Total Reward = 1.0\n",
            "Episode 288: Total Reward = 1.0\n",
            "Episode 289: Total Reward = 1.0\n",
            "Episode 290: Total Reward = 1.0\n",
            "Episode 291: Total Reward = 1.0\n",
            "Episode 292: Total Reward = 1.0\n",
            "Episode 293: Total Reward = 1.0\n",
            "Episode 294: Total Reward = 1.0\n",
            "Episode 295: Total Reward = 1.0\n",
            "Episode 296: Total Reward = 1.0\n",
            "Episode 297: Total Reward = 1.0\n",
            "Episode 298: Total Reward = 1.0\n",
            "Episode 299: Total Reward = 1.0\n",
            "Episode 300: Total Reward = 1.0\n",
            "Episode 301: Total Reward = 1.0\n",
            "Episode 302: Total Reward = 1.0\n",
            "Episode 303: Total Reward = 1.0\n",
            "Episode 304: Total Reward = 1.0\n",
            "Episode 305: Total Reward = 1.0\n",
            "Episode 306: Total Reward = 1.0\n",
            "Episode 307: Total Reward = 1.0\n",
            "Episode 308: Total Reward = 1.0\n",
            "Episode 309: Total Reward = 1.0\n",
            "Episode 310: Total Reward = 1.0\n",
            "Episode 311: Total Reward = 1.0\n",
            "Episode 312: Total Reward = 1.0\n",
            "Episode 313: Total Reward = 1.0\n",
            "Episode 314: Total Reward = 1.0\n",
            "Episode 315: Total Reward = 1.0\n",
            "Episode 316: Total Reward = 1.0\n",
            "Episode 317: Total Reward = 1.0\n",
            "Episode 318: Total Reward = 1.0\n",
            "Episode 319: Total Reward = 1.0\n",
            "Episode 320: Total Reward = 1.0\n",
            "Episode 321: Total Reward = 1.0\n",
            "Episode 322: Total Reward = 1.0\n",
            "Episode 323: Total Reward = 1.0\n",
            "Episode 324: Total Reward = 1.0\n",
            "Episode 325: Total Reward = 1.0\n",
            "Episode 326: Total Reward = 1.0\n",
            "Episode 327: Total Reward = 1.0\n",
            "Episode 328: Total Reward = 1.0\n",
            "Episode 329: Total Reward = 1.0\n",
            "Episode 330: Total Reward = 1.0\n",
            "Episode 331: Total Reward = 1.0\n",
            "Episode 332: Total Reward = 1.0\n",
            "Episode 333: Total Reward = 1.0\n",
            "Episode 334: Total Reward = 1.0\n",
            "Episode 335: Total Reward = 1.0\n",
            "Episode 336: Total Reward = 1.0\n",
            "Episode 337: Total Reward = 1.0\n",
            "Episode 338: Total Reward = 1.0\n",
            "Episode 339: Total Reward = 1.0\n",
            "Episode 340: Total Reward = 1.0\n",
            "Episode 341: Total Reward = 1.0\n",
            "Episode 342: Total Reward = 1.0\n",
            "Episode 343: Total Reward = 1.0\n",
            "Episode 344: Total Reward = 1.0\n",
            "Episode 345: Total Reward = 1.0\n",
            "Episode 346: Total Reward = 1.0\n",
            "Episode 347: Total Reward = 1.0\n",
            "Episode 348: Total Reward = 1.0\n",
            "Episode 349: Total Reward = 1.0\n",
            "Episode 350: Total Reward = 1.0\n",
            "Episode 351: Total Reward = 1.0\n",
            "Episode 352: Total Reward = 1.0\n",
            "Episode 353: Total Reward = 1.0\n",
            "Episode 354: Total Reward = 1.0\n",
            "Episode 355: Total Reward = 1.0\n",
            "Episode 356: Total Reward = 1.0\n",
            "Episode 357: Total Reward = 1.0\n",
            "Episode 358: Total Reward = 1.0\n",
            "Episode 359: Total Reward = 1.0\n",
            "Episode 360: Total Reward = 1.0\n",
            "Episode 361: Total Reward = 1.0\n",
            "Episode 362: Total Reward = 1.0\n",
            "Episode 363: Total Reward = 1.0\n",
            "Episode 364: Total Reward = 1.0\n",
            "Episode 365: Total Reward = 1.0\n",
            "Episode 366: Total Reward = 1.0\n",
            "Episode 367: Total Reward = 1.0\n",
            "Episode 368: Total Reward = 1.0\n",
            "Episode 369: Total Reward = 1.0\n",
            "Episode 370: Total Reward = 1.0\n",
            "Episode 371: Total Reward = 1.0\n",
            "Episode 372: Total Reward = 1.0\n",
            "Episode 373: Total Reward = 1.0\n",
            "Episode 374: Total Reward = 1.0\n",
            "Episode 375: Total Reward = 1.0\n",
            "Episode 376: Total Reward = 1.0\n",
            "Episode 377: Total Reward = 1.0\n",
            "Episode 378: Total Reward = 1.0\n",
            "Episode 379: Total Reward = 1.0\n",
            "Episode 380: Total Reward = 1.0\n",
            "Episode 381: Total Reward = 1.0\n",
            "Episode 382: Total Reward = 1.0\n",
            "Episode 383: Total Reward = 1.0\n",
            "Episode 384: Total Reward = 1.0\n",
            "Episode 385: Total Reward = 1.0\n",
            "Episode 386: Total Reward = 1.0\n",
            "Episode 387: Total Reward = 1.0\n",
            "Episode 388: Total Reward = 1.0\n",
            "Episode 389: Total Reward = 1.0\n",
            "Episode 390: Total Reward = 1.0\n",
            "Episode 391: Total Reward = 1.0\n",
            "Episode 392: Total Reward = 1.0\n",
            "Episode 393: Total Reward = 1.0\n",
            "Episode 394: Total Reward = 1.0\n",
            "Episode 395: Total Reward = 1.0\n",
            "Episode 396: Total Reward = 1.0\n",
            "Episode 397: Total Reward = 1.0\n",
            "Episode 398: Total Reward = 1.0\n",
            "Episode 399: Total Reward = 1.0\n",
            "Episode 400: Total Reward = 1.0\n",
            "Episode 401: Total Reward = 1.0\n",
            "Episode 402: Total Reward = 1.0\n",
            "Episode 403: Total Reward = 1.0\n",
            "Episode 404: Total Reward = 1.0\n",
            "Episode 405: Total Reward = 1.0\n",
            "Episode 406: Total Reward = 1.0\n",
            "Episode 407: Total Reward = 1.0\n",
            "Episode 408: Total Reward = 1.0\n",
            "Episode 409: Total Reward = 1.0\n",
            "Episode 410: Total Reward = 1.0\n",
            "Episode 411: Total Reward = 1.0\n",
            "Episode 412: Total Reward = 1.0\n",
            "Episode 413: Total Reward = 1.0\n",
            "Episode 414: Total Reward = 1.0\n",
            "Episode 415: Total Reward = 1.0\n",
            "Episode 416: Total Reward = 1.0\n",
            "Episode 417: Total Reward = 1.0\n",
            "Episode 418: Total Reward = 1.0\n",
            "Episode 419: Total Reward = 1.0\n",
            "Episode 420: Total Reward = 1.0\n",
            "Episode 421: Total Reward = 1.0\n",
            "Episode 422: Total Reward = 1.0\n",
            "Episode 423: Total Reward = 1.0\n",
            "Episode 424: Total Reward = 1.0\n",
            "Episode 425: Total Reward = 1.0\n",
            "Episode 426: Total Reward = 1.0\n",
            "Episode 427: Total Reward = 1.0\n",
            "Episode 428: Total Reward = 1.0\n",
            "Episode 429: Total Reward = 1.0\n",
            "Episode 430: Total Reward = 1.0\n",
            "Episode 431: Total Reward = 1.0\n",
            "Episode 432: Total Reward = 1.0\n",
            "Episode 433: Total Reward = 1.0\n",
            "Episode 434: Total Reward = 1.0\n",
            "Episode 435: Total Reward = 1.0\n",
            "Episode 436: Total Reward = 1.0\n",
            "Episode 437: Total Reward = 1.0\n",
            "Episode 438: Total Reward = 1.0\n",
            "Episode 439: Total Reward = 1.0\n",
            "Episode 440: Total Reward = 1.0\n",
            "Episode 441: Total Reward = 1.0\n",
            "Episode 442: Total Reward = 1.0\n",
            "Episode 443: Total Reward = 1.0\n",
            "Episode 444: Total Reward = 1.0\n",
            "Episode 445: Total Reward = 1.0\n",
            "Episode 446: Total Reward = 1.0\n",
            "Episode 447: Total Reward = 1.0\n",
            "Episode 448: Total Reward = 1.0\n",
            "Episode 449: Total Reward = 1.0\n",
            "Episode 450: Total Reward = 1.0\n",
            "Episode 451: Total Reward = 1.0\n",
            "Episode 452: Total Reward = 1.0\n",
            "Episode 453: Total Reward = 1.0\n",
            "Episode 454: Total Reward = 1.0\n",
            "Episode 455: Total Reward = 1.0\n",
            "Episode 456: Total Reward = 1.0\n",
            "Episode 457: Total Reward = 1.0\n",
            "Episode 458: Total Reward = 1.0\n",
            "Episode 459: Total Reward = 1.0\n",
            "Episode 460: Total Reward = 1.0\n",
            "Episode 461: Total Reward = 1.0\n",
            "Episode 462: Total Reward = 1.0\n",
            "Episode 463: Total Reward = 1.0\n",
            "Episode 464: Total Reward = 1.0\n",
            "Episode 465: Total Reward = 1.0\n",
            "Episode 466: Total Reward = 1.0\n",
            "Episode 467: Total Reward = 1.0\n",
            "Episode 468: Total Reward = 1.0\n",
            "Episode 469: Total Reward = 1.0\n",
            "Episode 470: Total Reward = 1.0\n",
            "Episode 471: Total Reward = 1.0\n",
            "Episode 472: Total Reward = 1.0\n",
            "Episode 473: Total Reward = 1.0\n",
            "Episode 474: Total Reward = 1.0\n",
            "Episode 475: Total Reward = 1.0\n",
            "Episode 476: Total Reward = 1.0\n",
            "Episode 477: Total Reward = 1.0\n",
            "Episode 478: Total Reward = 1.0\n",
            "Episode 479: Total Reward = 1.0\n",
            "Episode 480: Total Reward = 1.0\n",
            "Episode 481: Total Reward = 1.0\n",
            "Episode 482: Total Reward = 1.0\n",
            "Episode 483: Total Reward = 1.0\n",
            "Episode 484: Total Reward = 1.0\n",
            "Episode 485: Total Reward = 1.0\n",
            "Episode 486: Total Reward = 1.0\n",
            "Episode 487: Total Reward = 1.0\n",
            "Episode 488: Total Reward = 1.0\n",
            "Episode 489: Total Reward = 1.0\n",
            "Episode 490: Total Reward = 1.0\n",
            "Episode 491: Total Reward = 1.0\n",
            "Episode 492: Total Reward = 1.0\n",
            "Episode 493: Total Reward = 1.0\n",
            "Episode 494: Total Reward = 1.0\n",
            "Episode 495: Total Reward = 1.0\n",
            "Episode 496: Total Reward = 1.0\n",
            "Episode 497: Total Reward = 1.0\n",
            "Episode 498: Total Reward = 1.0\n",
            "Episode 499: Total Reward = 1.0\n",
            "Episode 500: Total Reward = 1.0\n",
            "Episode 501: Total Reward = 1.0\n",
            "Episode 502: Total Reward = 1.0\n",
            "Episode 503: Total Reward = 1.0\n",
            "Episode 504: Total Reward = 1.0\n",
            "Episode 505: Total Reward = 1.0\n",
            "Episode 506: Total Reward = 1.0\n",
            "Episode 507: Total Reward = 1.0\n",
            "Episode 508: Total Reward = 1.0\n",
            "Episode 509: Total Reward = 1.0\n",
            "Episode 510: Total Reward = 1.0\n",
            "Episode 511: Total Reward = 1.0\n",
            "Episode 512: Total Reward = 1.0\n",
            "Episode 513: Total Reward = 1.0\n",
            "Episode 514: Total Reward = 1.0\n",
            "Episode 515: Total Reward = 1.0\n",
            "Episode 516: Total Reward = 1.0\n",
            "Episode 517: Total Reward = 1.0\n",
            "Episode 518: Total Reward = 1.0\n",
            "Episode 519: Total Reward = 1.0\n",
            "Episode 520: Total Reward = 1.0\n",
            "Episode 521: Total Reward = 1.0\n",
            "Episode 522: Total Reward = 1.0\n",
            "Episode 523: Total Reward = 1.0\n",
            "Episode 524: Total Reward = 1.0\n",
            "Episode 525: Total Reward = 1.0\n",
            "Episode 526: Total Reward = 1.0\n",
            "Episode 527: Total Reward = 1.0\n",
            "Episode 528: Total Reward = 1.0\n",
            "Episode 529: Total Reward = 1.0\n",
            "Episode 530: Total Reward = 1.0\n",
            "Episode 531: Total Reward = 1.0\n",
            "Episode 532: Total Reward = 1.0\n",
            "Episode 533: Total Reward = 1.0\n",
            "Episode 534: Total Reward = 1.0\n",
            "Episode 535: Total Reward = 1.0\n",
            "Episode 536: Total Reward = 1.0\n",
            "Episode 537: Total Reward = 1.0\n",
            "Episode 538: Total Reward = 1.0\n",
            "Episode 539: Total Reward = 1.0\n",
            "Episode 540: Total Reward = 1.0\n",
            "Episode 541: Total Reward = 1.0\n",
            "Episode 542: Total Reward = 1.0\n",
            "Episode 543: Total Reward = 1.0\n",
            "Episode 544: Total Reward = 1.0\n",
            "Episode 545: Total Reward = 1.0\n",
            "Episode 546: Total Reward = 1.0\n",
            "Episode 547: Total Reward = 1.0\n",
            "Episode 548: Total Reward = 1.0\n",
            "Episode 549: Total Reward = 1.0\n",
            "Episode 550: Total Reward = 1.0\n",
            "Episode 551: Total Reward = 1.0\n",
            "Episode 552: Total Reward = 1.0\n",
            "Episode 553: Total Reward = 1.0\n",
            "Episode 554: Total Reward = 1.0\n",
            "Episode 555: Total Reward = 1.0\n",
            "Episode 556: Total Reward = 1.0\n",
            "Episode 557: Total Reward = 1.0\n",
            "Episode 558: Total Reward = 1.0\n",
            "Episode 559: Total Reward = 1.0\n",
            "Episode 560: Total Reward = 1.0\n",
            "Episode 561: Total Reward = 1.0\n",
            "Episode 562: Total Reward = 1.0\n",
            "Episode 563: Total Reward = 1.0\n",
            "Episode 564: Total Reward = 1.0\n",
            "Episode 565: Total Reward = 1.0\n",
            "Episode 566: Total Reward = 1.0\n",
            "Episode 567: Total Reward = 1.0\n",
            "Episode 568: Total Reward = 1.0\n",
            "Episode 569: Total Reward = 1.0\n",
            "Episode 570: Total Reward = 1.0\n",
            "Episode 571: Total Reward = 1.0\n",
            "Episode 572: Total Reward = 1.0\n",
            "Episode 573: Total Reward = 1.0\n",
            "Episode 574: Total Reward = 1.0\n",
            "Episode 575: Total Reward = 1.0\n",
            "Episode 576: Total Reward = 1.0\n",
            "Episode 577: Total Reward = 1.0\n",
            "Episode 578: Total Reward = 1.0\n",
            "Episode 579: Total Reward = 1.0\n",
            "Episode 580: Total Reward = 1.0\n",
            "Episode 581: Total Reward = 1.0\n",
            "Episode 582: Total Reward = 1.0\n",
            "Episode 583: Total Reward = 1.0\n",
            "Episode 584: Total Reward = 1.0\n",
            "Episode 585: Total Reward = 1.0\n",
            "Episode 586: Total Reward = 1.0\n",
            "Episode 587: Total Reward = 1.0\n",
            "Episode 588: Total Reward = 1.0\n",
            "Episode 589: Total Reward = 1.0\n",
            "Episode 590: Total Reward = 1.0\n",
            "Episode 591: Total Reward = 1.0\n",
            "Episode 592: Total Reward = 1.0\n",
            "Episode 593: Total Reward = 1.0\n",
            "Episode 594: Total Reward = 1.0\n",
            "Episode 595: Total Reward = 1.0\n",
            "Episode 596: Total Reward = 1.0\n",
            "Episode 597: Total Reward = 1.0\n",
            "Episode 598: Total Reward = 1.0\n",
            "Episode 599: Total Reward = 1.0\n",
            "Episode 600: Total Reward = 1.0\n",
            "Episode 601: Total Reward = 1.0\n",
            "Episode 602: Total Reward = 1.0\n",
            "Episode 603: Total Reward = 1.0\n",
            "Episode 604: Total Reward = 1.0\n",
            "Episode 605: Total Reward = 1.0\n",
            "Episode 606: Total Reward = 1.0\n",
            "Episode 607: Total Reward = 1.0\n",
            "Episode 608: Total Reward = 1.0\n",
            "Episode 609: Total Reward = 1.0\n",
            "Episode 610: Total Reward = 1.0\n",
            "Episode 611: Total Reward = 1.0\n",
            "Episode 612: Total Reward = 1.0\n",
            "Episode 613: Total Reward = 1.0\n",
            "Episode 614: Total Reward = 1.0\n",
            "Episode 615: Total Reward = 1.0\n",
            "Episode 616: Total Reward = 1.0\n",
            "Episode 617: Total Reward = 1.0\n",
            "Episode 618: Total Reward = 1.0\n",
            "Episode 619: Total Reward = 1.0\n",
            "Episode 620: Total Reward = 1.0\n",
            "Episode 621: Total Reward = 1.0\n",
            "Episode 622: Total Reward = 1.0\n",
            "Episode 623: Total Reward = 1.0\n",
            "Episode 624: Total Reward = 1.0\n",
            "Episode 625: Total Reward = 1.0\n",
            "Episode 626: Total Reward = 1.0\n",
            "Episode 627: Total Reward = 1.0\n",
            "Episode 628: Total Reward = 1.0\n",
            "Episode 629: Total Reward = 1.0\n",
            "Episode 630: Total Reward = 1.0\n",
            "Episode 631: Total Reward = 1.0\n",
            "Episode 632: Total Reward = 1.0\n",
            "Episode 633: Total Reward = 1.0\n",
            "Episode 634: Total Reward = 1.0\n",
            "Episode 635: Total Reward = 1.0\n",
            "Episode 636: Total Reward = 1.0\n",
            "Episode 637: Total Reward = 1.0\n",
            "Episode 638: Total Reward = 1.0\n",
            "Episode 639: Total Reward = 1.0\n",
            "Episode 640: Total Reward = 1.0\n",
            "Episode 641: Total Reward = 1.0\n",
            "Episode 642: Total Reward = 1.0\n",
            "Episode 643: Total Reward = 1.0\n",
            "Episode 644: Total Reward = 1.0\n",
            "Episode 645: Total Reward = 1.0\n",
            "Episode 646: Total Reward = 1.0\n",
            "Episode 647: Total Reward = 1.0\n",
            "Episode 648: Total Reward = 1.0\n",
            "Episode 649: Total Reward = 1.0\n",
            "Episode 650: Total Reward = 1.0\n",
            "Episode 651: Total Reward = 1.0\n",
            "Episode 652: Total Reward = 1.0\n",
            "Episode 653: Total Reward = 1.0\n",
            "Episode 654: Total Reward = 1.0\n",
            "Episode 655: Total Reward = 1.0\n",
            "Episode 656: Total Reward = 1.0\n",
            "Episode 657: Total Reward = 1.0\n",
            "Episode 658: Total Reward = 1.0\n",
            "Episode 659: Total Reward = 1.0\n",
            "Episode 660: Total Reward = 1.0\n",
            "Episode 661: Total Reward = 1.0\n",
            "Episode 662: Total Reward = 1.0\n",
            "Episode 663: Total Reward = 1.0\n",
            "Episode 664: Total Reward = 1.0\n",
            "Episode 665: Total Reward = 1.0\n",
            "Episode 666: Total Reward = 1.0\n",
            "Episode 667: Total Reward = 1.0\n",
            "Episode 668: Total Reward = 1.0\n",
            "Episode 669: Total Reward = 1.0\n",
            "Episode 670: Total Reward = 1.0\n",
            "Episode 671: Total Reward = 1.0\n",
            "Episode 672: Total Reward = 1.0\n",
            "Episode 673: Total Reward = 1.0\n",
            "Episode 674: Total Reward = 1.0\n",
            "Episode 675: Total Reward = 1.0\n",
            "Episode 676: Total Reward = 1.0\n",
            "Episode 677: Total Reward = 1.0\n",
            "Episode 678: Total Reward = 1.0\n",
            "Episode 679: Total Reward = 1.0\n",
            "Episode 680: Total Reward = 1.0\n",
            "Episode 681: Total Reward = 1.0\n",
            "Episode 682: Total Reward = 1.0\n",
            "Episode 683: Total Reward = 1.0\n",
            "Episode 684: Total Reward = 1.0\n",
            "Episode 685: Total Reward = 1.0\n",
            "Episode 686: Total Reward = 1.0\n",
            "Episode 687: Total Reward = 1.0\n",
            "Episode 688: Total Reward = 1.0\n",
            "Episode 689: Total Reward = 1.0\n",
            "Episode 690: Total Reward = 1.0\n",
            "Episode 691: Total Reward = 1.0\n",
            "Episode 692: Total Reward = 1.0\n",
            "Episode 693: Total Reward = 1.0\n",
            "Episode 694: Total Reward = 1.0\n",
            "Episode 695: Total Reward = 1.0\n",
            "Episode 696: Total Reward = 1.0\n",
            "Episode 697: Total Reward = 1.0\n",
            "Episode 698: Total Reward = 1.0\n",
            "Episode 699: Total Reward = 1.0\n",
            "Episode 700: Total Reward = 1.0\n",
            "Episode 701: Total Reward = 1.0\n",
            "Episode 702: Total Reward = 1.0\n",
            "Episode 703: Total Reward = 1.0\n",
            "Episode 704: Total Reward = 1.0\n",
            "Episode 705: Total Reward = 1.0\n",
            "Episode 706: Total Reward = 1.0\n",
            "Episode 707: Total Reward = 1.0\n",
            "Episode 708: Total Reward = 1.0\n",
            "Episode 709: Total Reward = 1.0\n",
            "Episode 710: Total Reward = 1.0\n",
            "Episode 711: Total Reward = 1.0\n",
            "Episode 712: Total Reward = 1.0\n",
            "Episode 713: Total Reward = 1.0\n",
            "Episode 714: Total Reward = 1.0\n",
            "Episode 715: Total Reward = 1.0\n",
            "Episode 716: Total Reward = 1.0\n",
            "Episode 717: Total Reward = 1.0\n",
            "Episode 718: Total Reward = 1.0\n",
            "Episode 719: Total Reward = 1.0\n",
            "Episode 720: Total Reward = 1.0\n",
            "Episode 721: Total Reward = 1.0\n",
            "Episode 722: Total Reward = 1.0\n",
            "Episode 723: Total Reward = 1.0\n",
            "Episode 724: Total Reward = 1.0\n",
            "Episode 725: Total Reward = 1.0\n",
            "Episode 726: Total Reward = 1.0\n",
            "Episode 727: Total Reward = 1.0\n",
            "Episode 728: Total Reward = 1.0\n",
            "Episode 729: Total Reward = 1.0\n",
            "Episode 730: Total Reward = 1.0\n",
            "Episode 731: Total Reward = 1.0\n",
            "Episode 732: Total Reward = 1.0\n",
            "Episode 733: Total Reward = 1.0\n",
            "Episode 734: Total Reward = 1.0\n",
            "Episode 735: Total Reward = 1.0\n",
            "Episode 736: Total Reward = 1.0\n",
            "Episode 737: Total Reward = 1.0\n",
            "Episode 738: Total Reward = 1.0\n",
            "Episode 739: Total Reward = 1.0\n",
            "Episode 740: Total Reward = 1.0\n",
            "Episode 741: Total Reward = 1.0\n",
            "Episode 742: Total Reward = 1.0\n",
            "Episode 743: Total Reward = 1.0\n",
            "Episode 744: Total Reward = 1.0\n",
            "Episode 745: Total Reward = 1.0\n",
            "Episode 746: Total Reward = 1.0\n",
            "Episode 747: Total Reward = 1.0\n",
            "Episode 748: Total Reward = 1.0\n",
            "Episode 749: Total Reward = 1.0\n",
            "Episode 750: Total Reward = 1.0\n",
            "Episode 751: Total Reward = 1.0\n",
            "Episode 752: Total Reward = 1.0\n",
            "Episode 753: Total Reward = 1.0\n",
            "Episode 754: Total Reward = 1.0\n",
            "Episode 755: Total Reward = 1.0\n",
            "Episode 756: Total Reward = 1.0\n",
            "Episode 757: Total Reward = 1.0\n",
            "Episode 758: Total Reward = 1.0\n",
            "Episode 759: Total Reward = 1.0\n",
            "Episode 760: Total Reward = 1.0\n",
            "Episode 761: Total Reward = 1.0\n",
            "Episode 762: Total Reward = 1.0\n",
            "Episode 763: Total Reward = 1.0\n",
            "Episode 764: Total Reward = 1.0\n",
            "Episode 765: Total Reward = 1.0\n",
            "Episode 766: Total Reward = 1.0\n",
            "Episode 767: Total Reward = 1.0\n",
            "Episode 768: Total Reward = 1.0\n",
            "Episode 769: Total Reward = 1.0\n",
            "Episode 770: Total Reward = 1.0\n",
            "Episode 771: Total Reward = 1.0\n",
            "Episode 772: Total Reward = 1.0\n",
            "Episode 773: Total Reward = 1.0\n",
            "Episode 774: Total Reward = 1.0\n",
            "Episode 775: Total Reward = 1.0\n",
            "Episode 776: Total Reward = 1.0\n",
            "Episode 777: Total Reward = 1.0\n",
            "Episode 778: Total Reward = 1.0\n",
            "Episode 779: Total Reward = 1.0\n",
            "Episode 780: Total Reward = 1.0\n",
            "Episode 781: Total Reward = 1.0\n",
            "Episode 782: Total Reward = 1.0\n",
            "Episode 783: Total Reward = 1.0\n",
            "Episode 784: Total Reward = 1.0\n",
            "Episode 785: Total Reward = 1.0\n",
            "Episode 786: Total Reward = 1.0\n",
            "Episode 787: Total Reward = 1.0\n",
            "Episode 788: Total Reward = 1.0\n",
            "Episode 789: Total Reward = 1.0\n",
            "Episode 790: Total Reward = 1.0\n",
            "Episode 791: Total Reward = 1.0\n",
            "Episode 792: Total Reward = 1.0\n",
            "Episode 793: Total Reward = 1.0\n",
            "Episode 794: Total Reward = 1.0\n",
            "Episode 795: Total Reward = 1.0\n",
            "Episode 796: Total Reward = 1.0\n",
            "Episode 797: Total Reward = 1.0\n",
            "Episode 798: Total Reward = 1.0\n",
            "Episode 799: Total Reward = 1.0\n",
            "Episode 800: Total Reward = 1.0\n",
            "Episode 801: Total Reward = 1.0\n",
            "Episode 802: Total Reward = 1.0\n",
            "Episode 803: Total Reward = 1.0\n",
            "Episode 804: Total Reward = 1.0\n",
            "Episode 805: Total Reward = 1.0\n",
            "Episode 806: Total Reward = 1.0\n",
            "Episode 807: Total Reward = 1.0\n",
            "Episode 808: Total Reward = 1.0\n",
            "Episode 809: Total Reward = 1.0\n",
            "Episode 810: Total Reward = 1.0\n",
            "Episode 811: Total Reward = 1.0\n",
            "Episode 812: Total Reward = 1.0\n",
            "Episode 813: Total Reward = 1.0\n",
            "Episode 814: Total Reward = 1.0\n",
            "Episode 815: Total Reward = 1.0\n",
            "Episode 816: Total Reward = 1.0\n",
            "Episode 817: Total Reward = 1.0\n",
            "Episode 818: Total Reward = 1.0\n",
            "Episode 819: Total Reward = 1.0\n",
            "Episode 820: Total Reward = 1.0\n",
            "Episode 821: Total Reward = 1.0\n",
            "Episode 822: Total Reward = 1.0\n",
            "Episode 823: Total Reward = 1.0\n",
            "Episode 824: Total Reward = 1.0\n",
            "Episode 825: Total Reward = 1.0\n",
            "Episode 826: Total Reward = 1.0\n",
            "Episode 827: Total Reward = 1.0\n",
            "Episode 828: Total Reward = 1.0\n",
            "Episode 829: Total Reward = 1.0\n",
            "Episode 830: Total Reward = 1.0\n",
            "Episode 831: Total Reward = 1.0\n",
            "Episode 832: Total Reward = 1.0\n",
            "Episode 833: Total Reward = 1.0\n",
            "Episode 834: Total Reward = 1.0\n",
            "Episode 835: Total Reward = 1.0\n",
            "Episode 836: Total Reward = 1.0\n",
            "Episode 837: Total Reward = 1.0\n",
            "Episode 838: Total Reward = 1.0\n",
            "Episode 839: Total Reward = 1.0\n",
            "Episode 840: Total Reward = 1.0\n",
            "Episode 841: Total Reward = 1.0\n",
            "Episode 842: Total Reward = 1.0\n",
            "Episode 843: Total Reward = 1.0\n",
            "Episode 844: Total Reward = 1.0\n",
            "Episode 845: Total Reward = 1.0\n",
            "Episode 846: Total Reward = 1.0\n",
            "Episode 847: Total Reward = 1.0\n",
            "Episode 848: Total Reward = 1.0\n",
            "Episode 849: Total Reward = 1.0\n",
            "Episode 850: Total Reward = 1.0\n",
            "Episode 851: Total Reward = 1.0\n",
            "Episode 852: Total Reward = 1.0\n",
            "Episode 853: Total Reward = 1.0\n",
            "Episode 854: Total Reward = 1.0\n",
            "Episode 855: Total Reward = 1.0\n",
            "Episode 856: Total Reward = 1.0\n",
            "Episode 857: Total Reward = 1.0\n",
            "Episode 858: Total Reward = 1.0\n",
            "Episode 859: Total Reward = 1.0\n",
            "Episode 860: Total Reward = 1.0\n",
            "Episode 861: Total Reward = 1.0\n",
            "Episode 862: Total Reward = 1.0\n",
            "Episode 863: Total Reward = 1.0\n",
            "Episode 864: Total Reward = 1.0\n",
            "Episode 865: Total Reward = 1.0\n",
            "Episode 866: Total Reward = 1.0\n",
            "Episode 867: Total Reward = 1.0\n",
            "Episode 868: Total Reward = 1.0\n",
            "Episode 869: Total Reward = 1.0\n",
            "Episode 870: Total Reward = 1.0\n",
            "Episode 871: Total Reward = 1.0\n",
            "Episode 872: Total Reward = 1.0\n",
            "Episode 873: Total Reward = 1.0\n",
            "Episode 874: Total Reward = 1.0\n",
            "Episode 875: Total Reward = 1.0\n",
            "Episode 876: Total Reward = 1.0\n",
            "Episode 877: Total Reward = 1.0\n",
            "Episode 878: Total Reward = 1.0\n",
            "Episode 879: Total Reward = 1.0\n",
            "Episode 880: Total Reward = 1.0\n",
            "Episode 881: Total Reward = 1.0\n",
            "Episode 882: Total Reward = 1.0\n",
            "Episode 883: Total Reward = 1.0\n",
            "Episode 884: Total Reward = 1.0\n",
            "Episode 885: Total Reward = 1.0\n",
            "Episode 886: Total Reward = 1.0\n",
            "Episode 887: Total Reward = 1.0\n",
            "Episode 888: Total Reward = 1.0\n",
            "Episode 889: Total Reward = 1.0\n",
            "Episode 890: Total Reward = 1.0\n",
            "Episode 891: Total Reward = 1.0\n",
            "Episode 892: Total Reward = 1.0\n",
            "Episode 893: Total Reward = 1.0\n",
            "Episode 894: Total Reward = 1.0\n",
            "Episode 895: Total Reward = 1.0\n",
            "Episode 896: Total Reward = 1.0\n",
            "Episode 897: Total Reward = 1.0\n",
            "Episode 898: Total Reward = 1.0\n",
            "Episode 899: Total Reward = 1.0\n",
            "Episode 900: Total Reward = 1.0\n",
            "Episode 901: Total Reward = 1.0\n",
            "Episode 902: Total Reward = 1.0\n",
            "Episode 903: Total Reward = 1.0\n",
            "Episode 904: Total Reward = 1.0\n",
            "Episode 905: Total Reward = 1.0\n",
            "Episode 906: Total Reward = 1.0\n",
            "Episode 907: Total Reward = 1.0\n",
            "Episode 908: Total Reward = 1.0\n",
            "Episode 909: Total Reward = 1.0\n",
            "Episode 910: Total Reward = 1.0\n",
            "Episode 911: Total Reward = 1.0\n",
            "Episode 912: Total Reward = 1.0\n",
            "Episode 913: Total Reward = 1.0\n",
            "Episode 914: Total Reward = 1.0\n",
            "Episode 915: Total Reward = 1.0\n",
            "Episode 916: Total Reward = 1.0\n",
            "Episode 917: Total Reward = 1.0\n",
            "Episode 918: Total Reward = 1.0\n",
            "Episode 919: Total Reward = 1.0\n",
            "Episode 920: Total Reward = 1.0\n",
            "Episode 921: Total Reward = 1.0\n",
            "Episode 922: Total Reward = 1.0\n",
            "Episode 923: Total Reward = 1.0\n",
            "Episode 924: Total Reward = 1.0\n",
            "Episode 925: Total Reward = 1.0\n",
            "Episode 926: Total Reward = 1.0\n",
            "Episode 927: Total Reward = 1.0\n",
            "Episode 928: Total Reward = 1.0\n",
            "Episode 929: Total Reward = 1.0\n",
            "Episode 930: Total Reward = 1.0\n",
            "Episode 931: Total Reward = 1.0\n",
            "Episode 932: Total Reward = 1.0\n",
            "Episode 933: Total Reward = 1.0\n",
            "Episode 934: Total Reward = 1.0\n",
            "Episode 935: Total Reward = 1.0\n",
            "Episode 936: Total Reward = 1.0\n",
            "Episode 937: Total Reward = 1.0\n",
            "Episode 938: Total Reward = 1.0\n",
            "Episode 939: Total Reward = 1.0\n",
            "Episode 940: Total Reward = 1.0\n",
            "Episode 941: Total Reward = 1.0\n",
            "Episode 942: Total Reward = 1.0\n",
            "Episode 943: Total Reward = 1.0\n",
            "Episode 944: Total Reward = 1.0\n",
            "Episode 945: Total Reward = 1.0\n",
            "Episode 946: Total Reward = 1.0\n",
            "Episode 947: Total Reward = 1.0\n",
            "Episode 948: Total Reward = 1.0\n",
            "Episode 949: Total Reward = 1.0\n",
            "Episode 950: Total Reward = 1.0\n",
            "Episode 951: Total Reward = 1.0\n",
            "Episode 952: Total Reward = 1.0\n",
            "Episode 953: Total Reward = 1.0\n",
            "Episode 954: Total Reward = 1.0\n",
            "Episode 955: Total Reward = 1.0\n",
            "Episode 956: Total Reward = 1.0\n",
            "Episode 957: Total Reward = 1.0\n",
            "Episode 958: Total Reward = 1.0\n",
            "Episode 959: Total Reward = 1.0\n",
            "Episode 960: Total Reward = 1.0\n",
            "Episode 961: Total Reward = 1.0\n",
            "Episode 962: Total Reward = 1.0\n",
            "Episode 963: Total Reward = 1.0\n",
            "Episode 964: Total Reward = 1.0\n",
            "Episode 965: Total Reward = 1.0\n",
            "Episode 966: Total Reward = 1.0\n",
            "Episode 967: Total Reward = 1.0\n",
            "Episode 968: Total Reward = 1.0\n",
            "Episode 969: Total Reward = 1.0\n",
            "Episode 970: Total Reward = 1.0\n",
            "Episode 971: Total Reward = 1.0\n",
            "Episode 972: Total Reward = 1.0\n",
            "Episode 973: Total Reward = 1.0\n",
            "Episode 974: Total Reward = 1.0\n",
            "Episode 975: Total Reward = 1.0\n",
            "Episode 976: Total Reward = 1.0\n",
            "Episode 977: Total Reward = 1.0\n",
            "Episode 978: Total Reward = 1.0\n",
            "Episode 979: Total Reward = 1.0\n",
            "Episode 980: Total Reward = 1.0\n",
            "Episode 981: Total Reward = 1.0\n",
            "Episode 982: Total Reward = 1.0\n",
            "Episode 983: Total Reward = 1.0\n",
            "Episode 984: Total Reward = 1.0\n",
            "Episode 985: Total Reward = 1.0\n",
            "Episode 986: Total Reward = 1.0\n",
            "Episode 987: Total Reward = 1.0\n",
            "Episode 988: Total Reward = 1.0\n",
            "Episode 989: Total Reward = 1.0\n",
            "Episode 990: Total Reward = 1.0\n",
            "Episode 991: Total Reward = 1.0\n",
            "Episode 992: Total Reward = 1.0\n",
            "Episode 993: Total Reward = 1.0\n",
            "Episode 994: Total Reward = 1.0\n",
            "Episode 995: Total Reward = 1.0\n",
            "Episode 996: Total Reward = 1.0\n",
            "Episode 997: Total Reward = 1.0\n",
            "Episode 998: Total Reward = 1.0\n",
            "Episode 999: Total Reward = 1.0\n",
            "Optimal Path:\n",
            "Step 0: (0, 0)\n",
            "Step 1: (1, 0)\n",
            "Step 2: (2, 0)\n",
            "Step 3: (2, 1)\n",
            "Step 4: (3, 1)\n",
            "Step 5: (3, 2)\n",
            "Step 6: (3, 3)\n"
          ]
        }
      ],
      "source": [
        "import numpy as np\n",
        "\n",
        "# Define the grid world environment\n",
        "grid_world = [\n",
        "    ['S', 'F', 'F', 'X'],\n",
        "    ['F', 'X', 'F', 'X'],\n",
        "    ['F', 'F', 'F', 'F'],\n",
        "    ['X', 'F', 'F', 'G']\n",
        "]\n",
        "\n",
        "# Define the actions (up, down, left, right)\n",
        "actions = [(0, -1), (0, 1), (-1, 0), (1, 0)]\n",
        "num_actions = len(actions)\n",
        "\n",
        "# Define the Q-table as a dictionary\n",
        "Q = {}\n",
        "\n",
        "# Hyperparameters\n",
        "learning_rate = 0.1\n",
        "discount_factor = 0.9\n",
        "epsilon = 0.1\n",
        "num_episodes = 1000\n",
        "\n",
        "# Initialize the Q-table with zeros\n",
        "for i in range(len(grid_world)):\n",
        "    for j in range(len(grid_world[i])):\n",
        "        state = (i, j)\n",
        "        if grid_world[i][j] != 'X':\n",
        "            Q[state] = np.zeros(num_actions)\n",
        "\n",
        "# Training loop\n",
        "for episode in range(num_episodes):\n",
        "    state = (0, 0)  # Start from the top-left corner\n",
        "    done = False\n",
        "    total_reward = 0\n",
        "\n",
        "    while not done:\n",
        "        if np.random.rand() < epsilon:\n",
        "            action = np.random.choice(num_actions)  # Exploration\n",
        "        else:\n",
        "            action = np.argmax(Q[state])  # Exploitation\n",
        "\n",
        "        dx, dy = actions[action]\n",
        "        next_state = (state[0] + dx, state[1] + dy)\n",
        "\n",
        "        # Check if the agent has reached the goal or encountered an obstacle\n",
        "        if next_state[0] < 0 or next_state[0] >= len(grid_world) \\\n",
        "                or next_state[1] < 0 or next_state[1] >= len(grid_world[0]) \\\n",
        "                or grid_world[next_state[0]][next_state[1]] == 'X':\n",
        "            # Invalid move, stay in the current state\n",
        "            next_state = state\n",
        "\n",
        "        # Check if the agent has reached the goal\n",
        "        if grid_world[next_state[0]][next_state[1]] == 'G':\n",
        "            reward = 1.0\n",
        "            done = True\n",
        "        else:\n",
        "            reward = 0.0\n",
        "\n",
        "        # Update the Q-value using the Q-learning formula\n",
        "        Q[state][action] = (1 - learning_rate) * Q[state][action] + \\\n",
        "                           learning_rate * (reward + discount_factor * np.max(Q[next_state]))\n",
        "\n",
        "        total_reward += reward\n",
        "        state = next_state\n",
        "\n",
        "    print(f\"Episode {episode}: Total Reward = {total_reward}\")\n",
        "\n",
        "# Evaluate the trained policy (follow the Q-table to reach the goal)\n",
        "state = (0, 0)\n",
        "path = [state]\n",
        "\n",
        "while grid_world[state[0]][state[1]] != 'G':\n",
        "    action = np.argmax(Q[state])\n",
        "    dx, dy = actions[action]\n",
        "    next_state = (state[0] + dx, state[1] + dy)\n",
        "    path.append(next_state)\n",
        "    state = next_state\n",
        "\n",
        "print(\"Optimal Path:\")\n",
        "for i, state in enumerate(path):\n",
        "    print(f\"Step {i}: {state}\")\n"
      ]
    },
    {
      "cell_type": "markdown",
      "id": "c1939a3a",
      "metadata": {
        "id": "c1939a3a"
      },
      "source": [
        "# Chapter 4: Types of Supervised Learning"
      ]
    },
    {
      "cell_type": "markdown",
      "source": [
        "![hello](https://drive.google.com/uc?export=view&id=1xm4DwvAfvMAvbflwOxroaJH2wBP22Niy)"
      ],
      "metadata": {
        "id": "vYu7aYT8zNf2"
      },
      "id": "vYu7aYT8zNf2"
    },
    {
      "cell_type": "markdown",
      "id": "359cea51",
      "metadata": {
        "id": "359cea51"
      },
      "source": [
        "## 1. Supervised Learning: Classification\n",
        "`Classification` is a type of supervised learning where the algorithm learns to categorize data into predefined classes or labels. It involves training a model to predict the class label of a given input based on its features.\n",
        "\n",
        "Example: Email spam detection, where the algorithm classifies emails as either \"spam\" or \"not spam\" based on their content.\n",
        "\n",
        "Example Code:"
      ]
    },
    {
      "cell_type": "code",
      "execution_count": null,
      "id": "ed9c0838",
      "metadata": {
        "id": "ed9c0838",
        "outputId": "b4153c37-15c5-43a3-e459-759327492d02"
      },
      "outputs": [
        {
          "data": {
            "text/plain": [
              "array([2, 1, 2, 1, 0, 1, 0, 2, 1, 2, 0, 2, 1, 0, 1, 0, 1, 0, 1, 1, 1, 1,\n",
              "       1, 1, 2, 1, 0, 0, 1, 0])"
            ]
          },
          "execution_count": 26,
          "metadata": {},
          "output_type": "execute_result"
        }
      ],
      "source": [
        "from sklearn import datasets, model_selection\n",
        "from sklearn.neighbors import KNeighborsClassifier\n",
        "\n",
        "# Load a sample dataset (e.g., Iris dataset)\n",
        "iris = datasets.load_iris()\n",
        "X_train, X_test, y_train, y_test = model_selection.train_test_split(iris.data, iris.target, test_size=0.2)\n",
        "\n",
        "# Create a k-nearest neighbors classifier\n",
        "knn = KNeighborsClassifier(n_neighbors=3)\n",
        "\n",
        "# Train the classifier on the training data\n",
        "knn.fit(X_train, y_train)\n",
        "\n",
        "# Make predictions on the test data\n",
        "y_pred = knn.predict(X_test)\n",
        "y_pred"
      ]
    },
    {
      "cell_type": "code",
      "execution_count": null,
      "id": "d88aadfc",
      "metadata": {
        "id": "d88aadfc",
        "outputId": "08fc17ff-6f54-43d9-f3da-018f34ebb046"
      },
      "outputs": [
        {
          "data": {
            "image/png": "[encoded data removed]",
            "text/plain": [
              "<Figure size 720x432 with 2 Axes>"
            ]
          },
          "metadata": {
            "needs_background": "light"
          },
          "output_type": "display_data"
        },
        {
          "data": {
            "image/png": "[encoded data removed]",
            "text/plain": [
              "<Figure size 720x432 with 2 Axes>"
            ]
          },
          "metadata": {
            "needs_background": "light"
          },
          "output_type": "display_data"
        }
      ],
      "source": [
        "import matplotlib.pyplot as plt\n",
        "\n",
        "# Create a scatter plot for the first two features (sepal length and sepal width)\n",
        "plt.figure(figsize=(10, 6))\n",
        "plt.scatter(X_test[:, 0], X_test[:, 1], c=y_pred, cmap='viridis', marker='o', edgecolor='k', s=100)\n",
        "plt.xlabel('Sepal Length (cm)')\n",
        "plt.ylabel('Sepal Width (cm)')\n",
        "plt.title('KNN Classifier - Sepal Features')\n",
        "plt.colorbar(label='Predicted Class')\n",
        "plt.show()\n",
        "\n",
        "# Create a scatter plot for the next two features (petal length and petal width)\n",
        "plt.figure(figsize=(10, 6))\n",
        "plt.scatter(X_test[:, 2], X_test[:, 3], c=y_pred, cmap='viridis', marker='o', edgecolor='k', s=100)\n",
        "plt.xlabel('Petal Length (cm)')\n",
        "plt.ylabel('Petal Width (cm)')\n",
        "plt.title('KNN Classifier - Petal Features')\n",
        "plt.colorbar(label='Predicted Class')\n",
        "plt.show()\n"
      ]
    },
    {
      "cell_type": "markdown",
      "id": "607ca8b8",
      "metadata": {
        "id": "607ca8b8"
      },
      "source": [
        "## 2. Supervised Learning: Regression\n",
        "`Regression` is another type of supervised learning that deals with predicting continuous numerical values or outcomes. Instead of classes, regression models learn to map input features to a continuous target variable.\n",
        "\n",
        "Example: Predicting house prices based on features such as square footage, number of bedrooms, and location.\n",
        "\n",
        "Example Code:"
      ]
    },
    {
      "cell_type": "code",
      "execution_count": null,
      "id": "e65342b8",
      "metadata": {
        "id": "e65342b8",
        "outputId": "92b0016a-f1d2-4411-ad3c-2f39900e3720"
      },
      "outputs": [
        {
          "data": {
            "text/plain": [
              "array([[2.38770167],\n",
              "       [1.88462362],\n",
              "       [2.25902634],\n",
              "       [2.1942048 ],\n",
              "       [2.38642051],\n",
              "       [1.6487144 ],\n",
              "       [2.19069603],\n",
              "       [1.7931897 ],\n",
              "       [1.13726865],\n",
              "       [2.39412577],\n",
              "       [2.69339757],\n",
              "       [2.36564614],\n",
              "       [2.48506718],\n",
              "       [1.69219133],\n",
              "       [2.22668098],\n",
              "       [1.5457801 ],\n",
              "       [1.68710612],\n",
              "       [1.26238114],\n",
              "       [1.47502264],\n",
              "       [2.60032598]])"
            ]
          },
          "execution_count": 28,
          "metadata": {},
          "output_type": "execute_result"
        }
      ],
      "source": [
        "from sklearn.linear_model import LinearRegression\n",
        "from sklearn.metrics import mean_squared_error\n",
        "import numpy as np\n",
        "\n",
        "# Generate synthetic data\n",
        "np.random.seed(0)\n",
        "X = np.random.rand(100, 1)  # Independent variable\n",
        "y = 2 * X + 1 + 0.1 * np.random.rand(100, 1)  # Dependent variable with some noise\n",
        "\n",
        "# Split the data into training and testing sets\n",
        "X_train, X_test, y_train, y_test = model_selection.train_test_split(X, y, test_size=0.2)\n",
        "\n",
        "# Create a linear regression model\n",
        "model = LinearRegression()\n",
        "\n",
        "# Train the model on the training data\n",
        "model.fit(X_train, y_train)\n",
        "\n",
        "# Make predictions on the test data\n",
        "y_pred = model.predict(X_test)\n",
        "\n",
        "# Calculate the Root Mean Square Error (RMSE)\n",
        "rmse = np.sqrt(mean_squared_error(y_test, y_pred))\n",
        "y_pred\n",
        "\n"
      ]
    },
    {
      "cell_type": "code",
      "execution_count": null,
      "id": "bb123ef9",
      "metadata": {
        "id": "bb123ef9",
        "outputId": "c377c08c-0581-4486-bb1b-0512286d7ae7"
      },
      "outputs": [
        {
          "data": {
            "image/png": "[encoded data removed]",
            "text/plain": [
              "<Figure size 432x288 with 1 Axes>"
            ]
          },
          "metadata": {
            "needs_background": "light"
          },
          "output_type": "display_data"
        }
      ],
      "source": [
        "import matplotlib.pyplot as plt\n",
        "\n",
        "# Scatter plot of the data points\n",
        "plt.scatter(X_test, y_test, color='blue', label='Actual Data')\n",
        "\n",
        "# Regression line\n",
        "plt.plot(X_test, y_pred, color='red', linewidth=3, label='Linear Regression')\n",
        "\n",
        "# Labels and legend\n",
        "plt.xlabel('X')\n",
        "plt.ylabel('y')\n",
        "plt.title('Linear Regression')\n",
        "plt.legend()\n",
        "\n",
        "# Show the plot\n",
        "plt.show()\n"
      ]
    },
    {
      "cell_type": "markdown",
      "id": "3a300f52",
      "metadata": {
        "id": "3a300f52"
      },
      "source": [
        "# Chapter 5: Types of Unsupervised Learning"
      ]
    },
    {
      "cell_type": "markdown",
      "source": [
        "![hello](https://drive.google.com/uc?export=view&id=133ndrAYNlGkGkzWoMUmIzIAqEjCihV0e)\n"
      ],
      "metadata": {
        "id": "auTawcnrzP4U"
      },
      "id": "auTawcnrzP4U"
    },
    {
      "cell_type": "markdown",
      "id": "1b38ddd4",
      "metadata": {
        "id": "1b38ddd4"
      },
      "source": [
        "## 1. Unsupervised Learning: Clustering\n",
        "`Clustering` is a type of unsupervised learning where the algorithm groups similar data points together based on their features. The goal is to identify patterns or natural groupings within the data without prior knowledge of class labels.\n",
        "\n",
        "Example: Customer segmentation, where customers are grouped into segments based on their purchasing behavior, allowing businesses to tailor marketing strategies.\n",
        "\n",
        "Example Code:"
      ]
    },
    {
      "cell_type": "code",
      "execution_count": null,
      "id": "76c227c3",
      "metadata": {
        "id": "76c227c3",
        "outputId": "f71db86b-a93f-4693-c7d7-32e097da9235"
      },
      "outputs": [
        {
          "data": {
            "image/png": "[encoded data removed]",
            "text/plain": [
              "<Figure size 432x288 with 1 Axes>"
            ]
          },
          "metadata": {
            "needs_background": "light"
          },
          "output_type": "display_data"
        }
      ],
      "source": [
        "from sklearn.cluster import KMeans\n",
        "import matplotlib.pyplot as plt\n",
        "\n",
        "# Generate sample data\n",
        "data = [[1, 2], [1, 4], [1, 0], [4, 2], [4, 4], [4, 0]]\n",
        "\n",
        "# Specify the number of clusters (K)\n",
        "kmeans = KMeans(n_clusters=2)\n",
        "\n",
        "# Fit the model to the data\n",
        "kmeans.fit(data)\n",
        "\n",
        "# Get cluster labels and centroids\n",
        "labels = kmeans.labels_\n",
        "centroids = kmeans.cluster_centers_\n",
        "\n",
        "# Visualize the clusters\n",
        "for i in range(len(data)):\n",
        "    color = 'r' if labels[i] == 0 else 'b'\n",
        "    plt.scatter(data[i][0], data[i][1], c=color)\n",
        "plt.scatter(centroids[:, 0], centroids[:, 1], marker='x', s=200, linewidths=3, color='g')\n",
        "plt.show()\n"
      ]
    },
    {
      "cell_type": "markdown",
      "id": "523bfda1",
      "metadata": {
        "id": "523bfda1"
      },
      "source": [
        "## 2. Unsupervised Learning: Association\n",
        "`Association rule mining` is another type of unsupervised learning where the algorithm discovers interesting relationships or associations between variables in a dataset. It identifies patterns such as \"if X, then Y\" or \"X implies Y\" in transactional data.\n",
        "\n",
        "Example: Market basket analysis, where the algorithm identifies which products are frequently purchased together in a shopping cart.\n",
        "\n",
        "Example Code:"
      ]
    },
    {
      "cell_type": "code",
      "execution_count": null,
      "id": "6c8b6828",
      "metadata": {
        "id": "6c8b6828",
        "outputId": "921223d3-3884-4bc4-b267-99873c86c983"
      },
      "outputs": [
        {
          "name": "stderr",
          "output_type": "stream",
          "text": [
            "C:\\Users\\avino\\anaconda3\\lib\\site-packages\\mlxtend\\frequent_patterns\\fpcommon.py:110: DeprecationWarning: DataFrames with non-bool types result in worse computationalperformance and their support might be discontinued in the future.Please use a DataFrame with bool type\n",
            "  warnings.warn(\n"
          ]
        },
        {
          "data": {
            "text/html": [
              "<div>\n",
              "<style scoped>\n",
              "    .dataframe tbody tr th:only-of-type {\n",
              "        vertical-align: middle;\n",
              "    }\n",
              "\n",
              "    .dataframe tbody tr th {\n",
              "        vertical-align: top;\n",
              "    }\n",
              "\n",
              "    .dataframe thead th {\n",
              "        text-align: right;\n",
              "    }\n",
              "</style>\n",
              "<table border=\"1\" class=\"dataframe\">\n",
              "  <thead>\n",
              "    <tr style=\"text-align: right;\">\n",
              "      <th></th>\n",
              "      <th>antecedents</th>\n",
              "      <th>consequents</th>\n",
              "      <th>antecedent support</th>\n",
              "      <th>consequent support</th>\n",
              "      <th>support</th>\n",
              "      <th>confidence</th>\n",
              "      <th>lift</th>\n",
              "      <th>leverage</th>\n",
              "      <th>conviction</th>\n",
              "      <th>zhangs_metric</th>\n",
              "    </tr>\n",
              "  </thead>\n",
              "  <tbody>\n",
              "    <tr>\n",
              "      <th>0</th>\n",
              "      <td>(banana)</td>\n",
              "      <td>(apple)</td>\n",
              "      <td>0.8</td>\n",
              "      <td>0.8</td>\n",
              "      <td>0.6</td>\n",
              "      <td>0.750000</td>\n",
              "      <td>0.937500</td>\n",
              "      <td>-0.04</td>\n",
              "      <td>0.8</td>\n",
              "      <td>-0.250000</td>\n",
              "    </tr>\n",
              "    <tr>\n",
              "      <th>1</th>\n",
              "      <td>(apple)</td>\n",
              "      <td>(banana)</td>\n",
              "      <td>0.8</td>\n",
              "      <td>0.8</td>\n",
              "      <td>0.6</td>\n",
              "      <td>0.750000</td>\n",
              "      <td>0.937500</td>\n",
              "      <td>-0.04</td>\n",
              "      <td>0.8</td>\n",
              "      <td>-0.250000</td>\n",
              "    </tr>\n",
              "    <tr>\n",
              "      <th>2</th>\n",
              "      <td>(apple)</td>\n",
              "      <td>(cherry)</td>\n",
              "      <td>0.8</td>\n",
              "      <td>0.8</td>\n",
              "      <td>0.6</td>\n",
              "      <td>0.750000</td>\n",
              "      <td>0.937500</td>\n",
              "      <td>-0.04</td>\n",
              "      <td>0.8</td>\n",
              "      <td>-0.250000</td>\n",
              "    </tr>\n",
              "    <tr>\n",
              "      <th>3</th>\n",
              "      <td>(cherry)</td>\n",
              "      <td>(apple)</td>\n",
              "      <td>0.8</td>\n",
              "      <td>0.8</td>\n",
              "      <td>0.6</td>\n",
              "      <td>0.750000</td>\n",
              "      <td>0.937500</td>\n",
              "      <td>-0.04</td>\n",
              "      <td>0.8</td>\n",
              "      <td>-0.250000</td>\n",
              "    </tr>\n",
              "    <tr>\n",
              "      <th>4</th>\n",
              "      <td>(banana)</td>\n",
              "      <td>(cherry)</td>\n",
              "      <td>0.8</td>\n",
              "      <td>0.8</td>\n",
              "      <td>0.6</td>\n",
              "      <td>0.750000</td>\n",
              "      <td>0.937500</td>\n",
              "      <td>-0.04</td>\n",
              "      <td>0.8</td>\n",
              "      <td>-0.250000</td>\n",
              "    </tr>\n",
              "    <tr>\n",
              "      <th>5</th>\n",
              "      <td>(cherry)</td>\n",
              "      <td>(banana)</td>\n",
              "      <td>0.8</td>\n",
              "      <td>0.8</td>\n",
              "      <td>0.6</td>\n",
              "      <td>0.750000</td>\n",
              "      <td>0.937500</td>\n",
              "      <td>-0.04</td>\n",
              "      <td>0.8</td>\n",
              "      <td>-0.250000</td>\n",
              "    </tr>\n",
              "    <tr>\n",
              "      <th>6</th>\n",
              "      <td>(banana, apple)</td>\n",
              "      <td>(cherry)</td>\n",
              "      <td>0.6</td>\n",
              "      <td>0.8</td>\n",
              "      <td>0.4</td>\n",
              "      <td>0.666667</td>\n",
              "      <td>0.833333</td>\n",
              "      <td>-0.08</td>\n",
              "      <td>0.6</td>\n",
              "      <td>-0.333333</td>\n",
              "    </tr>\n",
              "    <tr>\n",
              "      <th>7</th>\n",
              "      <td>(banana, cherry)</td>\n",
              "      <td>(apple)</td>\n",
              "      <td>0.6</td>\n",
              "      <td>0.8</td>\n",
              "      <td>0.4</td>\n",
              "      <td>0.666667</td>\n",
              "      <td>0.833333</td>\n",
              "      <td>-0.08</td>\n",
              "      <td>0.6</td>\n",
              "      <td>-0.333333</td>\n",
              "    </tr>\n",
              "    <tr>\n",
              "      <th>8</th>\n",
              "      <td>(apple, cherry)</td>\n",
              "      <td>(banana)</td>\n",
              "      <td>0.6</td>\n",
              "      <td>0.8</td>\n",
              "      <td>0.4</td>\n",
              "      <td>0.666667</td>\n",
              "      <td>0.833333</td>\n",
              "      <td>-0.08</td>\n",
              "      <td>0.6</td>\n",
              "      <td>-0.333333</td>\n",
              "    </tr>\n",
              "    <tr>\n",
              "      <th>9</th>\n",
              "      <td>(banana)</td>\n",
              "      <td>(apple, cherry)</td>\n",
              "      <td>0.8</td>\n",
              "      <td>0.6</td>\n",
              "      <td>0.4</td>\n",
              "      <td>0.500000</td>\n",
              "      <td>0.833333</td>\n",
              "      <td>-0.08</td>\n",
              "      <td>0.8</td>\n",
              "      <td>-0.500000</td>\n",
              "    </tr>\n",
              "    <tr>\n",
              "      <th>10</th>\n",
              "      <td>(apple)</td>\n",
              "      <td>(banana, cherry)</td>\n",
              "      <td>0.8</td>\n",
              "      <td>0.6</td>\n",
              "      <td>0.4</td>\n",
              "      <td>0.500000</td>\n",
              "      <td>0.833333</td>\n",
              "      <td>-0.08</td>\n",
              "      <td>0.8</td>\n",
              "      <td>-0.500000</td>\n",
              "    </tr>\n",
              "    <tr>\n",
              "      <th>11</th>\n",
              "      <td>(cherry)</td>\n",
              "      <td>(banana, apple)</td>\n",
              "      <td>0.8</td>\n",
              "      <td>0.6</td>\n",
              "      <td>0.4</td>\n",
              "      <td>0.500000</td>\n",
              "      <td>0.833333</td>\n",
              "      <td>-0.08</td>\n",
              "      <td>0.8</td>\n",
              "      <td>-0.500000</td>\n",
              "    </tr>\n",
              "  </tbody>\n",
              "</table>\n",
              "</div>"
            ],
            "text/plain": [
              "         antecedents       consequents  antecedent support  \\\n",
              "0           (banana)           (apple)                 0.8   \n",
              "1            (apple)          (banana)                 0.8   \n",
              "2            (apple)          (cherry)                 0.8   \n",
              "3           (cherry)           (apple)                 0.8   \n",
              "4           (banana)          (cherry)                 0.8   \n",
              "5           (cherry)          (banana)                 0.8   \n",
              "6    (banana, apple)          (cherry)                 0.6   \n",
              "7   (banana, cherry)           (apple)                 0.6   \n",
              "8    (apple, cherry)          (banana)                 0.6   \n",
              "9           (banana)   (apple, cherry)                 0.8   \n",
              "10           (apple)  (banana, cherry)                 0.8   \n",
              "11          (cherry)   (banana, apple)                 0.8   \n",
              "\n",
              "    consequent support  support  confidence      lift  leverage  conviction  \\\n",
              "0                  0.8      0.6    0.750000  0.937500     -0.04         0.8   \n",
              "1                  0.8      0.6    0.750000  0.937500     -0.04         0.8   \n",
              "2                  0.8      0.6    0.750000  0.937500     -0.04         0.8   \n",
              "3                  0.8      0.6    0.750000  0.937500     -0.04         0.8   \n",
              "4                  0.8      0.6    0.750000  0.937500     -0.04         0.8   \n",
              "5                  0.8      0.6    0.750000  0.937500     -0.04         0.8   \n",
              "6                  0.8      0.4    0.666667  0.833333     -0.08         0.6   \n",
              "7                  0.8      0.4    0.666667  0.833333     -0.08         0.6   \n",
              "8                  0.8      0.4    0.666667  0.833333     -0.08         0.6   \n",
              "9                  0.6      0.4    0.500000  0.833333     -0.08         0.8   \n",
              "10                 0.6      0.4    0.500000  0.833333     -0.08         0.8   \n",
              "11                 0.6      0.4    0.500000  0.833333     -0.08         0.8   \n",
              "\n",
              "    zhangs_metric  \n",
              "0       -0.250000  \n",
              "1       -0.250000  \n",
              "2       -0.250000  \n",
              "3       -0.250000  \n",
              "4       -0.250000  \n",
              "5       -0.250000  \n",
              "6       -0.333333  \n",
              "7       -0.333333  \n",
              "8       -0.333333  \n",
              "9       -0.500000  \n",
              "10      -0.500000  \n",
              "11      -0.500000  "
            ]
          },
          "execution_count": 36,
          "metadata": {},
          "output_type": "execute_result"
        }
      ],
      "source": [
        "from mlxtend.frequent_patterns import apriori, association_rules\n",
        "import pandas as pd\n",
        "\n",
        "# Create a sample transaction dataset\n",
        "data = {'TransactionID': [1, 2, 3, 4, 5],\n",
        "        'Items': [['apple', 'banana', 'cherry'],\n",
        "                  ['apple', 'banana'],\n",
        "                  ['apple', 'cherry'],\n",
        "                  ['banana', 'cherry'],\n",
        "                  ['apple', 'banana', 'cherry']]}\n",
        "\n",
        "df = pd.DataFrame(data)\n",
        "\n",
        "# Convert items to a binary format using one-hot encoding\n",
        "df_encoded = df['Items'].str.join('|').str.get_dummies()\n",
        "\n",
        "# Perform Apriori algorithm to find frequent itemsets with lower min_support\n",
        "frequent_itemsets = apriori(df_encoded, min_support=0.2, use_colnames=True)\n",
        "\n",
        "# Generate association rules with lower min_threshold\n",
        "rules = association_rules(frequent_itemsets, metric=\"lift\", min_threshold=0.8)\n",
        "\n",
        "# Display association rules\n",
        "rules\n"
      ]
    },
    {
      "cell_type": "markdown",
      "id": "5acf150f",
      "metadata": {
        "id": "5acf150f"
      },
      "source": [
        "# Chapter 6: Multiple Regression (Non-Linear):"
      ]
    },
    {
      "cell_type": "markdown",
      "id": "8252dd3a",
      "metadata": {
        "id": "8252dd3a"
      },
      "source": [
        "`Multiple regression` is a statistical method used in machine learning that extends simple linear regression to model the relationship between a dependent variable (target) and two or more independent variables (features or predictors). In `multiple regression`, you can have both `linear` and `non-linear` relationships between the independent variables and the dependent variable.\n",
        "\n",
        "Explanation:\n",
        "\n",
        "1. `Multiple Regression:` In multiple regression, the goal is to create a model that predicts a continuous target variable based on multiple input features. The model assumes a linear relationship between the features and the target variable.\n",
        "\n",
        "2. `Non-Linear Relationships:` While multiple regression typically assumes linear relationships, it can also handle non-linear relationships when appropriate transformations of the independent variables are included in the model.\n",
        "\n",
        "Example:\n",
        "\n",
        "Let's consider an example where we want to predict the price of a house based on two independent variables: the size of the house (in square feet) and the age of the house (in years). In this case, the relationship between the size and price of the house may be linear, but the relationship between the age and price may not be linear. We can handle this non-linear relationship by including polynomial terms in the regression model.\n",
        "\n",
        "Example Code (Multiple Regression with Non-Linear Relationship):"
      ]
    },
    {
      "cell_type": "code",
      "execution_count": null,
      "id": "b74c1d51",
      "metadata": {
        "id": "b74c1d51",
        "outputId": "d495e8c6-76bf-4859-b890-813deae0b8d7"
      },
      "outputs": [
        {
          "data": {
            "image/png": "[encoded data removed]",
            "text/plain": [
              "<Figure size 432x288 with 1 Axes>"
            ]
          },
          "metadata": {
            "needs_background": "light"
          },
          "output_type": "display_data"
        }
      ],
      "source": [
        "import numpy as np\n",
        "import pandas as pd\n",
        "import matplotlib.pyplot as plt\n",
        "from sklearn.linear_model import LinearRegression\n",
        "from sklearn.preprocessing import PolynomialFeatures\n",
        "from sklearn.metrics import mean_squared_error\n",
        "\n",
        "# Generate synthetic data with a non-linear relationship\n",
        "np.random.seed(0)\n",
        "X = np.random.rand(100, 1) * 10  # House size (in square feet)\n",
        "y = 50000 + 2000 * X + 1000 * X**2 + np.random.randn(100, 1) * 2000  # House price\n",
        "\n",
        "# Create a DataFrame\n",
        "data = pd.DataFrame({'Size': X.flatten(), 'Price': y.flatten()})\n",
        "\n",
        "# Extract features and target\n",
        "X = data[['Size']]\n",
        "y = data['Price']\n",
        "\n",
        "# Add polynomial features (in this case, up to degree 2)\n",
        "poly = PolynomialFeatures(degree=2)\n",
        "X_poly = poly.fit_transform(X)\n",
        "\n",
        "# Create a multiple regression model\n",
        "model = LinearRegression()\n",
        "\n",
        "# Fit the model to the data\n",
        "model.fit(X_poly, y)\n",
        "\n",
        "# Make predictions\n",
        "y_pred = model.predict(X_poly)\n",
        "\n",
        "# Calculate the Root Mean Square Error (RMSE)\n",
        "rmse = np.sqrt(mean_squared_error(y, y_pred))\n",
        "\n",
        "# Convert Pandas Series to NumPy arrays for plotting\n",
        "X_values = X['Size'].values\n",
        "y_values = y.values\n",
        "y_pred_values = y_pred.flatten()\n",
        "\n",
        "# Plot the data and regression curve\n",
        "plt.scatter(X_values, y_values, label='Data')\n",
        "plt.plot(X_values, y_pred_values, color='red', label='Regression Curve')\n",
        "plt.xlabel('Size (sq. ft)')\n",
        "plt.ylabel('Price')\n",
        "plt.legend()\n",
        "plt.title(f'Multiple Regression (Non-Linear)\\nRMSE: {rmse:.2f}')\n",
        "plt.show()\n"
      ]
    },
    {
      "cell_type": "markdown",
      "id": "9987662f",
      "metadata": {
        "id": "9987662f"
      },
      "source": [
        "# Chapter 7: Regression Analysis in Machine Learning:"
      ]
    },
    {
      "cell_type": "markdown",
      "id": "656189ff",
      "metadata": {
        "id": "656189ff"
      },
      "source": [
        "`Regression analysis` is a fundamental technique in machine learning and statistics used to model the relationship between a dependent variable (also known as the target or response variable) and one or more independent variables (predictors or features). The primary objective of regression analysis is to understand and predict the value of the dependent variable based on the values of the independent variables. Regression models come in various forms and can be used for both simple and complex predictive tasks."
      ]
    },
    {
      "cell_type": "markdown",
      "source": [
        "![hello](https://drive.google.com/uc?export=view&id=1JfTjzhUSJeiupqUWeCpyCLJ2zaYqsUYi)"
      ],
      "metadata": {
        "id": "3w0WsNltzSfA"
      },
      "id": "3w0WsNltzSfA"
    },
    {
      "cell_type": "markdown",
      "id": "a2826d3f",
      "metadata": {
        "id": "a2826d3f"
      },
      "source": [
        "#### key concepts and components related to regression analysis in machine learning:"
      ]
    },
    {
      "cell_type": "markdown",
      "id": "9e990549",
      "metadata": {
        "id": "9e990549"
      },
      "source": [
        "<h3>1. Dependent and Independent Variables:</h3>\n",
        "\n",
        "* <h4>Dependent Variable:</h4> This is the variable we aim to predict or explain. It's the outcome or target variable that we want our regression model to estimate.\n",
        "\n",
        "* <h4>Independent Variables:</h4> These are the variables that influence or explain changes in the dependent variable. They are also referred to as predictors or features.\n",
        "\n",
        "<h3>2. Multicollinearity:</h3> Multicollinearity occurs when two or more independent variables in a regression model are highly correlated. This can lead to problems in interpreting the model because it becomes challenging to separate the individual effects of the correlated variables. It can also make the model unstable and less reliable.\n",
        "\n",
        "<h3>3. Feature Engineering:</h3> Feature engineering is the process of creating new features or modifying existing ones in a dataset to improve the performance of machine learning models. It involves selecting, transforming, or creating features that are most relevant to the problem and can help the model make better predictions.\n",
        "\n",
        "<h3>4. Cross-Validation:</h3> Cross-validation is a technique used to assess the performance of a machine learning model. It involves dividing the data into multiple subsets (folds), training the model on different subsets, and evaluating its performance on the remaining data. Cross-validation helps estimate how well a model will generalize to unseen data.\n",
        "\n",
        "<h3>5. Regularization:</h3> Regularization is a technique used to prevent overfitting in machine learning models. It involves adding a penalty term to the model's objective function that discourages large coefficients. Common regularization methods include L1 (Lasso) and L2 (Ridge) regularization, which help control the complexity of the model.\n",
        "\n",
        "<h3>6. Model Interpretability:</h3> Model interpretability refers to the ability to understand and explain the predictions made by a machine learning model. Interpretable models are easier to analyze and trust. Complex models, like deep neural networks, often lack interpretability, while simpler models like linear regression are more interpretable."
      ]
    },
    {
      "cell_type": "markdown",
      "id": "d15af1b4",
      "metadata": {
        "id": "d15af1b4"
      },
      "source": [
        "<h3>7. Underfitting and Overfitting:</h3>\n",
        "\n",
        "* <h4>Underfitting:</h4> Underfitting happens when a machine learning model is too simple to capture the underlying patterns in the data. It occurs when the model is not complex enough to represent the relationships between variables accurately. An underfit model performs poorly on both training and testing data.\n",
        "\n",
        "* <h4>Overfitting:</h4> Overfitting occurs when a machine learning model is too complex and fits the training data too closely, capturing noise or random fluctuations in the data. As a result, the model performs well on the training data but poorly on unseen data because it fails to generalize. Regularization techniques are often used to combat overfitting."
      ]
    },
    {
      "cell_type": "markdown",
      "source": [
        "![hello](https://drive.google.com/uc?export=view&id=1308j3BaDRE5BVcCe2xUkj_m2euGVQYZ1)"
      ],
      "metadata": {
        "id": "u7DOShuJzUwf"
      },
      "id": "u7DOShuJzUwf"
    },
    {
      "cell_type": "markdown",
      "id": "418d368c",
      "metadata": {
        "id": "418d368c"
      },
      "source": [
        "<h3>8. Outliers:</h3>\n",
        "Outliers are data points that significantly differ from the majority of the data in a dataset. They are often seen as anomalies or unusual observations that don't conform to the expected pattern. Here are some key points about outliers:\n",
        "\n",
        "* `Identification`: Outliers can be identified through various methods, such as statistical tests, data visualization, or domain knowledge. Common techniques include box plots, scatter plots, and Z-scores.\n",
        "\n",
        "* `Causes`: Outliers can arise due to various reasons, including data entry errors, measurement errors, natural variability, or genuine extreme observations.\n",
        "\n",
        "* `Impact`: Outliers can have a significant impact on statistical analyses and machine learning models. They can skew summary statistics, affect the accuracy of predictive models, and lead to incorrect conclusions.\n",
        "\n",
        "* `Treatment`: Depending on the context and cause, outliers can be handled in different ways. Options include removing them, transforming the data, or using robust statistical methods that are less sensitive to outliers.\n",
        "\n",
        "* `Visualization`: Data visualization is a powerful tool for identifying outliers. Box plots, scatter plots, and histograms can reveal the presence of extreme values.\n",
        "\n",
        "* `Domain Knowledge`: Sometimes, outliers are not errors but valuable insights. In such cases, domain knowledge is crucial to understanding why these outliers exist and what they represent.\n",
        "\n",
        "* `Multivariate Outliers`: Outliers can also exist in multidimensional data, where they may not be obvious in individual dimensions but become apparent when considering multiple dimensions together."
      ]
    },
    {
      "cell_type": "markdown",
      "source": [
        "![hello](https://drive.google.com/uc?export=view&id=1sSdMW46cjWS_nD_wQSy6hLt4pWdV9UGA)"
      ],
      "metadata": {
        "id": "wFiTavnFzXNd"
      },
      "id": "wFiTavnFzXNd"
    },
    {
      "cell_type": "markdown",
      "id": "3b497ae1",
      "metadata": {
        "id": "3b497ae1"
      },
      "source": [
        "# Chapter 8: Types of Regression"
      ]
    },
    {
      "cell_type": "markdown",
      "id": "17e5ec31",
      "metadata": {
        "id": "17e5ec31"
      },
      "source": [
        "There are several types of regression techniques used in machine learning and statistics, each tailored to different types of data and modeling objectives. Here are some common types of regression:"
      ]
    },
    {
      "cell_type": "markdown",
      "id": "d7026d77",
      "metadata": {
        "id": "d7026d77"
      },
      "source": [
        "<h3>1. Linear Regression:</h3>\n",
        "\n",
        "* `Simple Linear Regression`: Models the relationship between a single independent variable and a continuous dependent variable with a linear equation (a straight line).\n",
        "\n",
        "* `Multiple Linear Regression`: Extends simple linear regression to include two or more independent variables to predict a continuous dependent variable.\n",
        "\n",
        "<h3>2. Logistic Regression:</h3>\n",
        "\n",
        "* Used for binary classification tasks, where the dependent variable is binary (e.g., 0 or 1).\n",
        "* Models the relationship between independent variables and the log-odds of the binary outcome.\n",
        "\n",
        "<h3>3. Polynomial Regression:</h3>\n",
        "\n",
        "* Models non-linear relationships between the independent and dependent variables by including polynomial terms of the independent variables.\n",
        "\n",
        "<h3>4. Support Vector Regression (SVR):</h3>\n",
        "\n",
        "* Utilizes support vector machines to predict continuous values by finding a hyperplane that best fits the data while minimizing errors.\n",
        "\n",
        "<h3>5. Decision Tree Regression:</h3>\n",
        "\n",
        "* Uses decision trees to model relationships between independent variables and continuous dependent variables.\n",
        "\n",
        "<h3>6. Random Forest Regression:</h3>\n",
        "\n",
        "* An ensemble technique that combines multiple decision trees to improve predictive accuracy.\n",
        "\n",
        "<h3>7. Ridge Regression:</h3>\n",
        "\n",
        "* A form of linear regression with L2 regularization to prevent overfitting by adding a penalty term to the loss function.\n",
        "\n",
        "<h3>8. Lasso Regression:</h3>\n",
        "\n",
        "* Another form of linear regression with L1 regularization, which can lead to feature selection by driving some coefficients to zero.\n",
        "\n",
        "<h3>9. ElasticNet Regression:</h3>\n",
        "\n",
        "* Combines L1 (Lasso) and L2 (Ridge) regularization to balance their effects.\n",
        "\n",
        "<h3>10. Bayesian Regression:</h3>\n",
        "\n",
        "* Applies Bayesian statistical techniques to regression models, allowing for uncertainty estimates in predictions.\n",
        "\n",
        "<h3>11. Poisson Regression:</h3>\n",
        "\n",
        "* Used when the dependent variable follows a Poisson distribution, often in count data or event prediction.\n",
        "\n",
        "<h3>12. Log-linear Regression:</h3>\n",
        "\n",
        "* Models relationships between categorical variables by taking the natural logarithm of the dependent variable.\n",
        "\n",
        "<h3>13. Quantile Regression:</h3>\n",
        "\n",
        "* Estimates conditional quantiles of the dependent variable rather than its mean.\n",
        "\n",
        "<h3>14. RANSAC Regression (Random Sample Consensus):</h3>\n",
        "\n",
        "* Robust regression technique that is resistant to outliers by iteratively fitting models to subsets of data.\n",
        "\n",
        "<h3>15. Non-linear Regression:</h3>\n",
        "\n",
        "* General category for regression techniques that model non-linear relationships using various mathematical functions, such as exponential or sigmoid functions.\n",
        "\n",
        "<h3>16. Kernel Ridge Regression:</h3>\n",
        "\n",
        "* Combines ridge regression with kernel methods to handle non-linear data transformations.\n",
        "\n",
        "<h3>17. Stepwise Regression:</h3>\n",
        "\n",
        "* A feature selection technique that selects the most significant features for the regression model.\n",
        "\n",
        "<h3>18. Multi-output Regression (Multi-target Regression):</h3>\n",
        "\n",
        "* Extends regression models to predict multiple dependent variables simultaneously."
      ]
    },
    {
      "cell_type": "markdown",
      "id": "24aa0972",
      "metadata": {
        "id": "24aa0972"
      },
      "source": [
        "# Chapter 9: Linear Regression"
      ]
    },
    {
      "cell_type": "markdown",
      "id": "c44841f4",
      "metadata": {
        "id": "c44841f4"
      },
      "source": [
        "`Linear regression` is a simple and widely used statistical technique that models the relationship between a dependent variable (target) and one or more independent variables (predictors or features) using a linear equation. It assumes that this relationship can be represented by a straight line."
      ]
    },
    {
      "cell_type": "markdown",
      "source": [
        "![hello](https://drive.google.com/uc?export=view&id=1RWV3xDPG7ulpqaYdLDoOXr15_pcCwUzl)\n"
      ],
      "metadata": {
        "id": "WehPAxaazZdx"
      },
      "id": "WehPAxaazZdx"
    },
    {
      "cell_type": "markdown",
      "id": "9c6afa03",
      "metadata": {
        "id": "9c6afa03"
      },
      "source": [
        "## Types of Linear Regression:"
      ]
    },
    {
      "cell_type": "markdown",
      "id": "2f604cf7",
      "metadata": {
        "id": "2f604cf7"
      },
      "source": [
        "### 1.Simple Linear Regression:\n",
        "\n",
        "* In simple linear regression, there is only one independent variable that is used to predict a single dependent variable.\n",
        "* The linear relationship between the independent and dependent variables is represented by a straight line equation:\n"
      ]
    },
    {
      "cell_type": "markdown",
      "source": [
        "![hello](https://drive.google.com/uc?export=view&id=1ATNDqpQ9lSmcHhy8Q6ZQtu6UPkmzuOuY)"
      ],
      "metadata": {
        "id": "sKCKJ5p8zbUz"
      },
      "id": "sKCKJ5p8zbUz"
    },
    {
      "cell_type": "markdown",
      "id": "92d6d7be",
      "metadata": {
        "id": "92d6d7be"
      },
      "source": [
        "### 2.Multiple Linear Regression:\n",
        "\n",
        "* Multiple linear regression extends simple linear regression to include two or more independent variables to predict a single dependent variable.\n",
        "\n",
        "* The linear relationship is represented as:"
      ]
    },
    {
      "cell_type": "markdown",
      "source": [
        "![hello](https://drive.google.com/uc?export=view&id=1BvYB5yFwGE1ZQroXyo1eN9Z3cjdxLfxM)\n"
      ],
      "metadata": {
        "id": "uYsSzoPTzdHZ"
      },
      "id": "uYsSzoPTzdHZ"
    },
    {
      "cell_type": "markdown",
      "id": "25d9a478",
      "metadata": {
        "id": "25d9a478"
      },
      "source": [
        "### 3. Linear Regression Line:\n",
        "\n",
        "The linear regression line represents the relationship between the independent and dependent variables in a linear regression model. It is a straight line that best fits the data points. The line is defined by its slope (b) and intercept (a)."
      ]
    },
    {
      "cell_type": "markdown",
      "source": [
        "![hello](https://drive.google.com/uc?export=view&id=17kJtE3j8LDTtOo3EB0D77VAoJttSbPl6)\n"
      ],
      "metadata": {
        "id": "0udt5ynwzfeL"
      },
      "id": "0udt5ynwzfeL"
    },
    {
      "cell_type": "markdown",
      "id": "1d8eead3",
      "metadata": {
        "id": "1d8eead3"
      },
      "source": [
        "<h4>Positive Linear Relationship:</h4>\n",
        "\n",
        "* When the slope (b) of the linear regression line is positive, it indicates a positive linear relationship between the independent and dependent variables.\n",
        "* This means that as the independent variable (X) increases, the dependent variable (Y) also increases.\n",
        "* For example, if we are modeling the relationship between study hours and exam scores, a positive linear relationship implies that more study hours are associated with higher exam scores.\n",
        "\n",
        "<h4>Negative Linear Relationship:</h4>\n",
        "\n",
        "* When the slope (b) of the linear regression line is negative, it indicates a negative linear relationship between the independent and dependent variables.\n",
        "* This means that as the independent variable (X) increases, the dependent variable (Y) decreases.\n",
        "* For example, in the context of cost and quantity, a negative linear relationship implies that as the quantity of a product increases, the cost per unit decreases."
      ]
    },
    {
      "cell_type": "markdown",
      "id": "74991553",
      "metadata": {
        "id": "74991553"
      },
      "source": [
        "Example Code (Simple Linear Regression):"
      ]
    },
    {
      "cell_type": "code",
      "execution_count": null,
      "id": "fcc5a522",
      "metadata": {
        "id": "fcc5a522",
        "outputId": "cb6d8c2c-0dd0-46a8-891c-3dedb3e1149a"
      },
      "outputs": [
        {
          "data": {
            "image/png": "[encoded data removed]",
            "text/plain": [
              "<Figure size 432x288 with 1 Axes>"
            ]
          },
          "metadata": {
            "needs_background": "light"
          },
          "output_type": "display_data"
        }
      ],
      "source": [
        "import numpy as np\n",
        "import matplotlib.pyplot as plt\n",
        "from sklearn.linear_model import LinearRegression\n",
        "\n",
        "# Generate synthetic data\n",
        "np.random.seed(0)\n",
        "X = 2 * np.random.rand(100, 1)\n",
        "y = 4 + 3 * X + np.random.randn(100, 1)\n",
        "\n",
        "# Create a linear regression model\n",
        "model = LinearRegression()\n",
        "\n",
        "# Fit the model to the data\n",
        "model.fit(X, y)\n",
        "\n",
        "# Get the intercept and slope of the regression line\n",
        "intercept = model.intercept_\n",
        "slope = model.coef_\n",
        "\n",
        "# Plot the data and regression line\n",
        "plt.scatter(X, y, label='Data')\n",
        "plt.plot(X, intercept + slope * X, color='red', label='Regression Line')\n",
        "plt.xlabel('Independent Variable (X)')\n",
        "plt.ylabel('Dependent Variable (Y)')\n",
        "plt.legend()\n",
        "plt.title('Simple Linear Regression')\n",
        "plt.show()\n"
      ]
    },
    {
      "cell_type": "markdown",
      "id": "f94299e3",
      "metadata": {
        "id": "f94299e3"
      },
      "source": [
        "# Chapter 10: Logistic Regression:\n",
        "\n",
        "`Logistic regression` is a statistical method used for binary classification tasks, where the dependent variable (target) is binary, meaning it has only two possible values (e.g., 0 or 1, True or False, Yes or No). Despite its name, logistic regression is a classification algorithm, not a regression algorithm like linear regression."
      ]
    },
    {
      "cell_type": "markdown",
      "source": [
        "![hello](https://drive.google.com/uc?export=view&id=1Jvv6hPMcx5OtBAzo-LToKbGidCuN-Gd_)"
      ],
      "metadata": {
        "id": "F4g1bv-tzhz7"
      },
      "id": "F4g1bv-tzhz7"
    },
    {
      "cell_type": "markdown",
      "id": "e9418761",
      "metadata": {
        "id": "e9418761"
      },
      "source": [
        "Explanation:\n",
        "\n",
        "* `Binary Classification`: Logistic regression is well-suited for binary classification problems where the goal is to predict one of two possible outcomes based on one or more independent variables (features).\n",
        "\n",
        "* `Logistic Function (Sigmoid)`: Logistic regression uses a logistic function (also known as the sigmoid function`(σ)` ) to model the probability of the binary outcome. The logistic function maps any input to a value between `0` and `1`, representing the probability of belonging to the positive class.\n",
        "\n",
        "*`Mathematical Representation`: In logistic regression, the logistic function is applied to a linear combination of the independent variables:\n",
        "\n",
        "$P(Y=1) = \\frac{1}{1 + e^{-(\\hat{a} + \\sum \\limits _{i=1} ^{k} X_{i}\\hat{b}_{i})}}$\n",
        "\n",
        "> * P(Y=1) is the probability of the positive class (e.g., 1 or True).\n",
        "\n",
        "> * $X_{1}, X_{2}, \\ldots, X_{k}$ are the independent variables.\n",
        "\n",
        "> * $a$ is the intercept.\n",
        "\n",
        "> * $b_{1}, b_{2}, \\ldots, b_{k}$\n",
        " are the coefficients of the independent variables.\n",
        "\n",
        "* `Decision Boundary`: Logistic regression finds the coefficients $b_{1}, b_{2}, \\ldots, b_{k}$\n",
        " that best fit the training data. It then uses a decision boundary (e.g.,P(Y=1)=0.5) to classify new data points.\n",
        "\n",
        "\n",
        "\n",
        "\n",
        "\n",
        "\n",
        "\n",
        "* `Regularization`: Logistic regression can be regularized to prevent overfitting. Common regularization techniques include L1 (Lasso) and L2 (Ridge) regularization."
      ]
    },
    {
      "cell_type": "code",
      "execution_count": null,
      "id": "37b256f8",
      "metadata": {
        "id": "37b256f8",
        "outputId": "0747810c-b769-4405-e4ba-4217393d7f02"
      },
      "outputs": [
        {
          "data": {
            "image/png": "[encoded data removed]",
            "text/plain": [
              "<Figure size 576x432 with 1 Axes>"
            ]
          },
          "metadata": {
            "needs_background": "light"
          },
          "output_type": "display_data"
        }
      ],
      "source": [
        "import numpy as np\n",
        "import matplotlib.pyplot as plt\n",
        "from sklearn.linear_model import LogisticRegression\n",
        "from sklearn.datasets import make_classification\n",
        "\n",
        "# Generate synthetic data for binary classification\n",
        "X, y = make_classification(n_samples=100, n_features=2, n_classes=2, n_clusters_per_class=1, n_redundant=0, random_state=42)\n",
        "\n",
        "# Create a logistic regression model\n",
        "model = LogisticRegression()\n",
        "\n",
        "# Fit the model to the data\n",
        "model.fit(X, y)\n",
        "\n",
        "# Plot decision boundary and data points\n",
        "plt.figure(figsize=(8, 6))\n",
        "plt.scatter(X[:, 0], X[:, 1], c=y, cmap=plt.cm.RdBu, marker='o', s=50, edgecolor='k')\n",
        "ax = plt.gca()\n",
        "x_min, x_max = ax.get_xlim()\n",
        "y_min, y_max = ax.get_ylim()\n",
        "\n",
        "# Generate grid points to plot decision boundary\n",
        "xx, yy = np.meshgrid(np.linspace(x_min, x_max, 100), np.linspace(y_min, y_max, 100))\n",
        "Z = model.predict_proba(np.c_[xx.ravel(), yy.ravel()])[:, 1]\n",
        "Z = Z.reshape(xx.shape)\n",
        "\n",
        "# Plot decision boundary\n",
        "plt.contourf(xx, yy, Z, cmap=plt.cm.RdBu, alpha=0.8)\n",
        "\n",
        "plt.xlabel('Feature 1')\n",
        "plt.ylabel('Feature 2')\n",
        "plt.title('Logistic Regression - Decision Boundary')\n",
        "plt.show()\n"
      ]
    },
    {
      "cell_type": "markdown",
      "id": "df6e675f",
      "metadata": {
        "id": "df6e675f"
      },
      "source": [
        "# Chapter 11:  Polynomial Regression:\n",
        "\n",
        "`Polynomial regression` is a type of regression analysis used to model the relationship between a dependent variable and one or more independent variables by fitting a polynomial equation to the data. Unlike linear regression, which assumes a linear relationship between variables, polynomial regression can capture non-linear relationships."
      ]
    },
    {
      "cell_type": "markdown",
      "id": "6d0e05f0",
      "metadata": {
        "id": "6d0e05f0"
      },
      "source": [
        "Explanation:\n",
        "\n",
        "* `Polynomial Equation`: In polynomial regression, the relationship between the dependent variable `(Y)` and the independent variable `(X)` is modeled using a polynomial equation of a specified degree `(n)`:\n",
        "\n",
        "$Y = a_{0} + a_{1}X + a_{2}X^{2} + \\ldots + a_{n}X^{n}$\n",
        "\n",
        "> * `Y` is the dependent variable.\n",
        "\n",
        "> * `X` is the independent variable.\n",
        "\n",
        "> * $a_{0}, a_{1}, a_{2}, \\ldots, a_{n}$ are coefficients that the algorithm estimates to best fit the data.\n",
        "\n",
        "\n",
        "* `Degree of the Polynomial`: The degree `(n)` determines the complexity of the polynomial model. Higher degrees can capture more complex, non-linear relationships but may also lead to overfitting.\n",
        "\n",
        "* `Overfitting`: Care should be taken when selecting the degree of the polynomial to avoid overfitting, where the model fits the training data noise rather than the underlying pattern."
      ]
    },
    {
      "cell_type": "code",
      "execution_count": null,
      "id": "24c90884",
      "metadata": {
        "id": "24c90884",
        "outputId": "dc9eeb03-7256-42cf-86e1-54bb89020368"
      },
      "outputs": [
        {
          "data": {
            "image/png": "[encoded data removed]",
            "text/plain": [
              "<Figure size 432x288 with 1 Axes>"
            ]
          },
          "metadata": {
            "needs_background": "light"
          },
          "output_type": "display_data"
        }
      ],
      "source": [
        "import numpy as np\n",
        "import matplotlib.pyplot as plt\n",
        "from sklearn.linear_model import LinearRegression\n",
        "from sklearn.preprocessing import PolynomialFeatures\n",
        "\n",
        "# Generate synthetic data\n",
        "np.random.seed(0)\n",
        "X = 2 * np.random.rand(100, 1)\n",
        "y = 1 + 2 * X + 0.5 * X**2 + np.random.randn(100, 1)\n",
        "\n",
        "# Create polynomial features up to degree 2\n",
        "poly_features = PolynomialFeatures(degree=2, include_bias=False)\n",
        "X_poly = poly_features.fit_transform(X)\n",
        "\n",
        "# Create a linear regression model\n",
        "model = LinearRegression()\n",
        "\n",
        "# Fit the model to the polynomial features\n",
        "model.fit(X_poly, y)\n",
        "\n",
        "# Get the intercept and coefficients\n",
        "intercept = model.intercept_\n",
        "coefficients = model.coef_\n",
        "\n",
        "# Plot the data and polynomial regression curve\n",
        "plt.scatter(X, y, label='Data')\n",
        "x_range = np.linspace(0, 2, 100).reshape(-1, 1)\n",
        "x_range_poly = poly_features.transform(x_range)\n",
        "y_pred = model.predict(x_range_poly)\n",
        "plt.plot(x_range, y_pred, color='red', label='Polynomial Regression Curve')\n",
        "plt.xlabel('Independent Variable (X)')\n",
        "plt.ylabel('Dependent Variable (Y)')\n",
        "plt.legend()\n",
        "plt.title('Polynomial Regression (Degree 2)')\n",
        "plt.show()\n"
      ]
    },
    {
      "cell_type": "markdown",
      "id": "9e57ea03",
      "metadata": {
        "id": "9e57ea03"
      },
      "source": [
        "# Chapter 12: Support Vector Regression (SVR):\n",
        "\n",
        "`Support Vector Regression (SVR)` is a regression technique that extends the concepts of support vector machines (SVMs) to solve regression problems. SVR is particularly useful when dealing with non-linear relationships between variables. It works by finding a `hyperplane` that best fits the data while allowing for a margin of error."
      ]
    },
    {
      "cell_type": "markdown",
      "source": [
        "![hello](https://drive.google.com/uc?export=view&id=1J-vH5EghCYOA8cBG9aUhDKjN533DRi_5)\n"
      ],
      "metadata": {
        "id": "jI9_8ptpzkcY"
      },
      "id": "jI9_8ptpzkcY"
    },
    {
      "cell_type": "markdown",
      "id": "3362903e",
      "metadata": {
        "id": "3362903e"
      },
      "source": [
        "Explanation:\n",
        "\n",
        "* `Hyperplane`: In SVR, the goal is to find a hyperplane that fits the data points as closely as possible while still maintaining a specified margin of error (often referred to as ε-tube or ε-insensitive zone). This margin of error allows some data points to fall outside the margin while minimizing the overall error.\n",
        "\n",
        "\n",
        "* `Epsilon (ε)`: Epsilon is a user-defined parameter that determines the width of the ε-tube. It controls the trade-off between model complexity and fitting accuracy. Smaller values of ε result in a narrower margin and a more complex model, while larger values allow more data points to fall within the margin.\n",
        "\n",
        "\n",
        "* `Kernel Trick`: SVR can handle non-linear relationships by applying the kernel trick, which transforms the original feature space into a higher-dimensional space, making it possible to find a hyperplane in the transformed space.\n",
        "\n",
        "\n",
        "* `Loss Function`: The loss function in SVR aims to minimize the error between the predicted values and the actual values within the ε-tube while also maximizing the margin. Common loss functions include the ε-insensitive loss and quadratic loss."
      ]
    },
    {
      "cell_type": "markdown",
      "id": "2b2c09df",
      "metadata": {
        "id": "2b2c09df"
      },
      "source": [
        "<h4>Types of Kernels:</h4>\n",
        "\n",
        "* SVR supports different types of kernels for mapping data to a higher-dimensional space. Common kernels include:\n",
        "\n",
        "> * `Linear Kernel`: Suitable for linear relationships.\n",
        "\n",
        "> * `Polynomial Kernel`: Suitable for polynomial relationships.\n",
        "\n",
        "> * `Radial Basis Function (RBF) Kernel`: Suitable for non-linear relationships and is widely used.\n",
        "\n",
        "Example Code (SVR using scikit-learn with RBF Kernel):"
      ]
    },
    {
      "cell_type": "code",
      "execution_count": null,
      "id": "9476d363",
      "metadata": {
        "id": "9476d363",
        "outputId": "515527f0-dd30-44d9-ad40-c677de435a2d"
      },
      "outputs": [
        {
          "data": {
            "image/png": "[encoded data removed]",
            "text/plain": [
              "<Figure size 432x288 with 1 Axes>"
            ]
          },
          "metadata": {
            "needs_background": "light"
          },
          "output_type": "display_data"
        }
      ],
      "source": [
        "import numpy as np\n",
        "import matplotlib.pyplot as plt\n",
        "from sklearn.svm import SVR\n",
        "\n",
        "# Generate synthetic data with a non-linear relationship\n",
        "np.random.seed(0)\n",
        "X = np.sort(5 * np.random.rand(80, 1), axis=0)\n",
        "y = np.sin(X).ravel() + np.random.normal(0, 0.1, X.shape[0])\n",
        "\n",
        "# Create SVR model with RBF kernel\n",
        "model = SVR(kernel='rbf', C=1, epsilon=0.2)\n",
        "\n",
        "# Fit the model to the data\n",
        "model.fit(X, y)\n",
        "\n",
        "# Predict using the trained SVR model\n",
        "y_pred = model.predict(X)\n",
        "\n",
        "# Plot the data points and SVR predictions\n",
        "plt.scatter(X, y, color='darkorange', label='Data')\n",
        "plt.plot(X, y_pred, color='navy', lw=2, label='SVR (RBF Kernel)')\n",
        "plt.xlabel('X')\n",
        "plt.ylabel('Y')\n",
        "plt.title('Support Vector Regression (SVR) with RBF Kernel')\n",
        "plt.legend()\n",
        "plt.show()\n"
      ]
    },
    {
      "cell_type": "markdown",
      "id": "95cfceac",
      "metadata": {
        "id": "95cfceac"
      },
      "source": [
        "# Chapter 13: Decision Tree Regression:\n",
        "\n",
        "`Decision tree regression` is a machine learning technique used for regression tasks. It builds a tree-like model of decisions and their possible consequences, allowing you to make predictions based on the rules learned from the data. In the context of regression, decision trees are used to predict continuous numerical values."
      ]
    },
    {
      "cell_type": "markdown",
      "id": "f8419632",
      "metadata": {
        "id": "f8419632"
      },
      "source": [
        "Explanation:\n",
        "\n",
        "* `Tree Structure`: A decision tree is a hierarchical structure composed of nodes, branches, and leaves. Nodes represent decisions or tests on features, branches represent possible outcomes of the tests, and leaves represent the predicted values.\n",
        "\n",
        "* `Splitting Criteria`: The tree-building process involves selecting the best feature and value to split the data at each node. Common splitting criteria include minimizing mean squared error, mean absolute error, or other regression-specific metrics.\n",
        "\n",
        "* `Leaf Values`: In a decision tree regression model, each leaf node contains a predicted value for the target variable. This value is often the mean (or median) of the target values of the training data points that reach that leaf.\n",
        "\n",
        "* `Tree Depth`: The depth of the tree determines how complex the model can be. A deeper tree may fit the training data more closely but could lead to overfitting.\n",
        "\n",
        "* `Pruning`: Pruning is a technique used to reduce the depth of the tree by removing branches that do not significantly improve predictive performance on the validation or test data. Pruning helps prevent overfitting.\n",
        "\n",
        "* `Decision Rules`: The decision tree can be interpreted as a set of rules. To make predictions, one starts at the root node and follows the decision rules based on the features until reaching a leaf node, where the predicted value is found."
      ]
    },
    {
      "cell_type": "code",
      "execution_count": null,
      "id": "1315eed0",
      "metadata": {
        "id": "1315eed0",
        "outputId": "e1ec8ba5-71bb-42fa-82e5-d455d99e4132"
      },
      "outputs": [
        {
          "data": {
            "image/png": "[encoded data removed]",
            "text/plain": [
              "<Figure size 432x288 with 1 Axes>"
            ]
          },
          "metadata": {
            "needs_background": "light"
          },
          "output_type": "display_data"
        },
        {
          "data": {
            "image/png": "[encoded data removed]",
            "text/plain": [
              "<Figure size 864x576 with 1 Axes>"
            ]
          },
          "metadata": {
            "needs_background": "light"
          },
          "output_type": "display_data"
        }
      ],
      "source": [
        "import numpy as np\n",
        "import matplotlib.pyplot as plt\n",
        "from sklearn.tree import DecisionTreeRegressor\n",
        "from sklearn.tree import plot_tree  # Import the plot_tree function\n",
        "\n",
        "# Generate synthetic data with a non-linear relationship\n",
        "np.random.seed(0)\n",
        "X = np.sort(5 * np.random.rand(80, 1), axis=0)\n",
        "y = np.sin(X).ravel() + np.random.normal(0, 0.1, X.shape[0])\n",
        "\n",
        "# Create a decision tree regressor\n",
        "model = DecisionTreeRegressor(max_depth=5)\n",
        "\n",
        "# Fit the model to the data\n",
        "model.fit(X, y)\n",
        "\n",
        "# Generate data for prediction\n",
        "X_test = np.arange(0.0, 5.0, 0.01)[:, np.newaxis]\n",
        "\n",
        "# Predict using the trained decision tree regressor\n",
        "y_pred = model.predict(X_test)\n",
        "\n",
        "# Plot the data points and decision tree predictions\n",
        "plt.scatter(X, y, color='darkorange', label='Data')\n",
        "plt.plot(X_test, y_pred, color='navy', lw=2, label='Decision Tree Regression')\n",
        "plt.xlabel('X')\n",
        "plt.ylabel('Y')\n",
        "plt.title('Decision Tree Regression')\n",
        "plt.legend()\n",
        "\n",
        "# Visualize the structure of the decision tree\n",
        "plt.figure(figsize=(12, 8))\n",
        "plot_tree(model, filled=True)\n",
        "plt.title('Decision Tree Structure')\n",
        "plt.show()\n"
      ]
    },
    {
      "cell_type": "markdown",
      "id": "aa3441c6",
      "metadata": {
        "id": "aa3441c6"
      },
      "source": [
        "# Chapter 14: Random Forest Regressor\n",
        "`Random Forest Regressor` is a machine learning technique that extends the idea of decision tree regression. It's an ensemble method that combines multiple decision trees to make more accurate predictions. `Random Forest Regressor` is particularly useful for handling complex, non-linear relationships in data and reducing overfitting."
      ]
    },
    {
      "cell_type": "markdown",
      "id": "3af6e5f4",
      "metadata": {
        "id": "3af6e5f4"
      },
      "source": [
        "Explanation:\n",
        "\n",
        "* `Ensemble Learning`: Random Forest is an ensemble learning method, which means it combines predictions from multiple individual models (in this case, decision trees) to make more accurate and robust predictions.\n",
        "\n",
        "* `Random Subsampling`: Instead of using a single decision tree, Random Forest builds a collection of decision trees. Each tree is trained on a randomly selected subset of the data, called a bootstrap sample. This introduces diversity among the trees.\n",
        "\n",
        "* `Random Feature Selection`: At each node of each decision tree, Random Forest considers a random subset of features for splitting. This further enhances the diversity of the trees and reduces overfitting.\n",
        "\n",
        "* `Voting or Averaging`: For regression tasks, the predictions of individual decision trees are combined by taking their average. This ensemble approach typically results in more stable and accurate predictions.\n",
        "\n",
        "* `Out-of-Bag (OOB) Error`: Random Forest can estimate its own performance during training using out-of-bag samples. This is data that was not included in the bootstrap sample for each tree. The OOB error provides an estimate of the model's accuracy without the need for a separate validation set.\n",
        "\n",
        "* `Hyperparameters`: Random Forest has hyperparameters to control the number of trees in the ensemble, the depth of each tree, and other settings. Tuning these hyperparameters can optimize model performance."
      ]
    },
    {
      "cell_type": "code",
      "execution_count": null,
      "id": "1c23048f",
      "metadata": {
        "id": "1c23048f",
        "outputId": "940f5206-adc5-4db4-d001-90512bd03067"
      },
      "outputs": [
        {
          "data": {
            "image/png": "[encoded data removed]",
            "text/plain": [
              "<Figure size 432x288 with 1 Axes>"
            ]
          },
          "metadata": {
            "needs_background": "light"
          },
          "output_type": "display_data"
        },
        {
          "data": {
            "image/png": "[encoded data removed]",
            "text/plain": [
              "<Figure size 864x576 with 1 Axes>"
            ]
          },
          "metadata": {
            "needs_background": "light"
          },
          "output_type": "display_data"
        }
      ],
      "source": [
        "import numpy as np\n",
        "import matplotlib.pyplot as plt\n",
        "from sklearn.ensemble import RandomForestRegressor\n",
        "from sklearn.tree import plot_tree  # Import the plot_tree function\n",
        "\n",
        "# Generate synthetic data with a non-linear relationship\n",
        "np.random.seed(0)\n",
        "X = np.sort(5 * np.random.rand(80, 1), axis=0)\n",
        "y = np.sin(X).ravel() + np.random.normal(0, 0.1, X.shape[0])\n",
        "\n",
        "# Create a random forest regressor with 100 trees\n",
        "model = RandomForestRegressor(n_estimators=100, max_depth=5)\n",
        "\n",
        "# Fit the model to the data\n",
        "model.fit(X, y)\n",
        "\n",
        "# Generate data for prediction\n",
        "X_test = np.arange(0.0, 5.0, 0.01)[:, np.newaxis]\n",
        "\n",
        "# Predict using the trained random forest regressor\n",
        "y_pred = model.predict(X_test)\n",
        "\n",
        "# Plot the data points and random forest regression predictions\n",
        "plt.scatter(X, y, color='darkorange', label='Data')\n",
        "plt.plot(X_test, y_pred, color='navy', lw=2, label='Random Forest Regression')\n",
        "plt.xlabel('X')\n",
        "plt.ylabel('Y')\n",
        "plt.title('Random Forest Regression')\n",
        "plt.legend()\n",
        "\n",
        "# Visualize the structure of the first tree in the Random Forest\n",
        "plt.figure(figsize=(12, 8))\n",
        "plot_tree(model.estimators_[0], filled=True)\n",
        "plt.title('Random Forest Tree Structure (First Tree)')\n",
        "plt.show()\n"
      ]
    },
    {
      "cell_type": "markdown",
      "id": "6195ce01",
      "metadata": {
        "id": "6195ce01"
      },
      "source": [
        "# Chapter 15: Ridge Regression:\n",
        "\n",
        "`Ridge Regression`, also known as `L2 regularization`, is a linear regression technique used to mitigate the problems of multicollinearity (high correlation between independent variables) and overfitting. It adds a penalty term to the linear regression objective function to constrain the magnitude of the coefficients.\n",
        "\n",
        "Explanation:\n",
        "\n",
        "* `Objective Function`: In linear regression, the objective is to minimize the sum of squared differences between the predicted values and the actual target values. In Ridge Regression, this objective function is modified to include a regularization term:\n",
        "\n",
        "Objective Function $= \\sum \\limits _{i=1} ^{n} (y_{i} - \\hat{y}_{i})^{2} + \\alpha \\sum \\limits _{j=1} ^{p} \\beta_{j}^{2}$\n",
        "\n",
        "> * $y_{i}$ is the actual target value for the i-th data point.\n",
        "> * $\\hat{y}_{i}$ is the predicted target value for the i-th data point.\n",
        "> * $n$ is the number of data points.\n",
        "> * $p$ is the number of features (independent variables).\n",
        "> * $β_{j}$ represents the coefficients of the independent variables.\n",
        "> * $a$ is the regularization parameter (also known as the regularization strength). It controls the trade-off between fitting the data well and keeping the coefficients small.\n",
        "\n",
        "* `Regularization Term`: The regularization term, $α \\sum \\limits _{j=1} ^{p} \\beta_{j}^{2}$,penalizes large values of the coefficients. This means that Ridge Regression encourages the coefficients to be small and, if possible, close to zero.\n",
        "\n",
        "* `Multicollinearity`: Ridge Regression is particularly useful when multicollinearity is present in the data. Multicollinearity occurs when independent variables are highly correlated, making it difficult to determine their individual effects on the dependent variable. Ridge Regression helps by shrinking the coefficients of correlated variables.\n",
        "\n",
        "* `Tuning the Regularization Parameter`: The choice of the $α$ value is crucial. A smaller $α$ allows the model to fit the data closely but may lead to overfitting. A larger $α$ shrinks the coefficients more aggressively but may underfit the data. Cross-validation is often used to select an appropriate $α$ value."
      ]
    },
    {
      "cell_type": "markdown",
      "source": [
        "![ridge](https://drive.google.com/uc?export=view&id=1g5nriVeePTXOairCe9ipaNbyTA_noRQy)\n",
        "\n"
      ],
      "metadata": {
        "id": "DS_W079hzn6z"
      },
      "id": "DS_W079hzn6z"
    },
    {
      "cell_type": "code",
      "execution_count": null,
      "id": "efb83110",
      "metadata": {
        "id": "efb83110",
        "outputId": "631e6810-1296-4bec-deca-6c828890350d"
      },
      "outputs": [
        {
          "data": {
            "image/png": "[encoded data removed]",
            "text/plain": [
              "<Figure size 432x288 with 1 Axes>"
            ]
          },
          "metadata": {
            "needs_background": "light"
          },
          "output_type": "display_data"
        }
      ],
      "source": [
        "import numpy as np\n",
        "import matplotlib.pyplot as plt\n",
        "from sklearn.linear_model import Ridge\n",
        "from sklearn.preprocessing import PolynomialFeatures\n",
        "from sklearn.pipeline import make_pipeline\n",
        "\n",
        "# Generate synthetic data with a non-linear relationship\n",
        "np.random.seed(0)\n",
        "X = np.sort(5 * np.random.rand(80, 1), axis=0)\n",
        "y = np.sin(X).ravel() + np.random.normal(0, 0.1, X.shape[0])\n",
        "\n",
        "# Create a Ridge Regression model with a polynomial feature transformation\n",
        "degree = 5\n",
        "model = make_pipeline(PolynomialFeatures(degree), Ridge(alpha=1.0))\n",
        "\n",
        "# Fit the model to the data\n",
        "model.fit(X, y)\n",
        "\n",
        "# Generate data for prediction\n",
        "X_test = np.arange(0.0, 5.0, 0.01)[:, np.newaxis]\n",
        "\n",
        "# Predict using the trained Ridge Regression model\n",
        "y_pred = model.predict(X_test)\n",
        "\n",
        "# Plot the data points and Ridge Regression predictions\n",
        "plt.scatter(X, y, color='darkorange', label='Data')\n",
        "plt.plot(X_test, y_pred, color='navy', lw=2, label='Ridge Regression')\n",
        "plt.xlabel('X')\n",
        "plt.ylabel('Y')\n",
        "plt.title('Ridge Regression (Polynomial Degree {})'.format(degree))\n",
        "plt.legend()\n",
        "plt.show()\n"
      ]
    },
    {
      "cell_type": "markdown",
      "id": "9c31cf7c",
      "metadata": {
        "id": "9c31cf7c"
      },
      "source": [
        "# Chapter 16: Lasso Regression:\n",
        "\n",
        "`Lasso Regression`, short for `\"Least Absolute Shrinkage and Selection Operator\"`, is a linear regression technique that, like Ridge Regression, is used for mitigating overfitting and feature selection. Lasso adds a penalty term to the linear regression objective function to encourage sparse coefficients, effectively pushing some coefficients to become exactly zero.\n",
        "\n",
        "Explanation:\n",
        "\n",
        "* `Objective Function`: In Lasso Regression, the objective function is modified to include an L1 regularization term:\n",
        "\n",
        "Objective Function $= \\sum \\limits _{i=1} ^{n} (y_{i} - \\hat{y}_{i})^{2} + \\alpha \\sum \\limits _{j=1} ^{p} |\\beta_{j}|$\n",
        "\n",
        "\n",
        "> * $y_{i}$ is the actual target value for the i-th data point.\n",
        "> * $\\hat{y}_{i}$ is the predicted target value for the i-th data point.\n",
        "> * $n$ is the number of data points.\n",
        "> * $p$ is the number of features (independent variables).\n",
        "> * $β_{j}$\n",
        "represents the coefficients of the independent variables.\n",
        "> * $a$ is the regularization parameter (also known as the regularization strength). It controls the trade-off between fitting the data well and keeping the coefficients small.\n",
        "\n",
        "* `Regularization Term`: The L1 regularization term,$α \\sum \\limits _{j=1} ^{p} |\\beta_{j}|$,encourages sparsity in the coefficients. This means that Lasso Regression not only shrinks the coefficients but can also set some coefficients to exactly zero, effectively performing feature selection.\n",
        "\n",
        "\n",
        "* `Feature Selection`: Lasso Regression is valuable for feature selection because it can identify and eliminate irrelevant or less important features from the model. This results in a simpler and more interpretable model.\n",
        "\n",
        "* `Tuning the Regularization Parameter`: As with Ridge Regression, the choice of the $α$ value is essential in Lasso Regression. Smaller values of $α$ allow the model to fit the data closely but may lead to overfitting. Larger values of\n",
        "$α$ encourage more coefficients to become zero. Cross-validation is often used to select an appropriate $α$ value."
      ]
    },
    {
      "cell_type": "markdown",
      "source": [
        "![hello](https://drive.google.com/uc?export=view&id=1nbCKMOb-GgX9RIXvBn5aq6AL6B_lVaWO)"
      ],
      "metadata": {
        "id": "DfvZoTwGzqAn"
      },
      "id": "DfvZoTwGzqAn"
    },
    {
      "cell_type": "code",
      "execution_count": null,
      "id": "7fa74be2",
      "metadata": {
        "id": "7fa74be2",
        "outputId": "6ba4bf9c-8004-4b7e-c12a-938785fc099f"
      },
      "outputs": [
        {
          "name": "stderr",
          "output_type": "stream",
          "text": [
            "C:\\Users\\avino\\anaconda3\\lib\\site-packages\\sklearn\\linear_model\\_coordinate_descent.py:647: ConvergenceWarning: Objective did not converge. You might want to increase the number of iterations, check the scale of the features or consider increasing regularisation. Duality gap: 1.153e+00, tolerance: 3.764e-03\n",
            "  model = cd_fast.enet_coordinate_descent(\n"
          ]
        },
        {
          "data": {
            "image/png": "[encoded data removed]",
            "text/plain": [
              "<Figure size 432x288 with 1 Axes>"
            ]
          },
          "metadata": {
            "needs_background": "light"
          },
          "output_type": "display_data"
        }
      ],
      "source": [
        "import numpy as np\n",
        "import matplotlib.pyplot as plt\n",
        "from sklearn.linear_model import Lasso\n",
        "from sklearn.preprocessing import PolynomialFeatures\n",
        "from sklearn.pipeline import make_pipeline\n",
        "\n",
        "# Generate synthetic data with a non-linear relationship\n",
        "np.random.seed(0)\n",
        "X = np.sort(5 * np.random.rand(80, 1), axis=0)\n",
        "y = np.sin(X).ravel() + np.random.normal(0, 0.1, X.shape[0])\n",
        "\n",
        "# Create a Lasso Regression model with a polynomial feature transformation\n",
        "degree = 5\n",
        "model = make_pipeline(PolynomialFeatures(degree), Lasso(alpha=0.01))\n",
        "\n",
        "# Fit the model to the data\n",
        "model.fit(X, y)\n",
        "\n",
        "# Generate data for prediction\n",
        "X_test = np.arange(0.0, 5.0, 0.01)[:, np.newaxis]\n",
        "\n",
        "# Predict using the trained Lasso Regression model\n",
        "y_pred = model.predict(X_test)\n",
        "\n",
        "# Plot the data points and Lasso Regression predictions\n",
        "plt.scatter(X, y, color='darkorange', label='Data')\n",
        "plt.plot(X_test, y_pred, color='navy', lw=2, label='Lasso Regression')\n",
        "plt.xlabel('X')\n",
        "plt.ylabel('Y')\n",
        "plt.title('Lasso Regression (Polynomial Degree {})'.format(degree))\n",
        "plt.legend()\n",
        "plt.show()\n"
      ]
    },
    {
      "cell_type": "markdown",
      "id": "74ed3bb7",
      "metadata": {
        "id": "74ed3bb7"
      },
      "source": [
        "# Chapter 17: Model Performance Metrics:\n",
        "\n",
        "When working with machine learning models, it's essential to evaluate their performance to assess how well they generalize to new, unseen data. Several commonly used performance metrics help you measure the quality of your models. Below are explanations of some key model performance metrics:"
      ]
    },
    {
      "cell_type": "markdown",
      "id": "7e18ca16",
      "metadata": {
        "id": "7e18ca16"
      },
      "source": [
        "### 1. R-squared (R²):\n",
        "\n",
        "* R-squared, also known as the coefficient of determination, measures the proportion of the variance in the dependent variable (target) that is explained by the independent variables (features) in a regression model.\n",
        "* R-squared values range from 0 to 1, where 0 indicates that the model does not explain any variance, and 1 indicates a perfect fit.\n",
        "* A higher R-squared value indicates a better fit of the model to the data.\n",
        "\n",
        "Python Code (Calculating R-squared):"
      ]
    },
    {
      "cell_type": "code",
      "execution_count": null,
      "id": "eef820eb",
      "metadata": {
        "id": "eef820eb",
        "outputId": "1850872b-3739-4eba-a08e-5c8bdc2d2382"
      },
      "outputs": [
        {
          "name": "stdout",
          "output_type": "stream",
          "text": [
            "0.9683333333333334\n"
          ]
        }
      ],
      "source": [
        "from sklearn.metrics import r2_score\n",
        "y_true = [2, 4, 5, 4, 5]\n",
        "y_pred = [2.2, 3.8, 4.7, 3.9, 5.1]\n",
        "r_squared = r2_score(y_true, y_pred)\n",
        "print(r_squared)"
      ]
    },
    {
      "cell_type": "markdown",
      "id": "aa683541",
      "metadata": {
        "id": "aa683541"
      },
      "source": [
        "### 2.Root Mean Square Error (RMSE):\n",
        "\n",
        "* RMSE measures the average magnitude of the errors between predicted values and actual values in a regression model.\n",
        "* RMSE is in the same units as the dependent variable, making it interpretable.\n",
        "* Smaller RMSE values indicate better model performance.\n",
        "\n",
        "Python Code (Calculating RMSE):"
      ]
    },
    {
      "cell_type": "code",
      "execution_count": null,
      "id": "ab380461",
      "metadata": {
        "id": "ab380461",
        "outputId": "c39ec042-d5b8-4c48-dda8-0a6b22ff2e09"
      },
      "outputs": [
        {
          "name": "stdout",
          "output_type": "stream",
          "text": [
            "0.19493588689617924\n"
          ]
        }
      ],
      "source": [
        "from sklearn.metrics import mean_squared_error\n",
        "import math\n",
        "y_true = [2, 4, 5, 4, 5]\n",
        "y_pred = [2.2, 3.8, 4.7, 3.9, 5.1]\n",
        "rmse = math.sqrt(mean_squared_error(y_true, y_pred))\n",
        "print(rmse)"
      ]
    },
    {
      "cell_type": "markdown",
      "id": "920c793f",
      "metadata": {
        "id": "920c793f"
      },
      "source": [
        "### 3. Mean Absolute Error (MAE):\n",
        "\n",
        "* MAE measures the average absolute difference between predicted values and actual values in a regression model.\n",
        "* MAE is also in the same units as the dependent variable.\n",
        "* Like RMSE, smaller MAE values indicate better model performance.\n",
        "\n",
        "Python Code (Calculating MAE):"
      ]
    },
    {
      "cell_type": "code",
      "execution_count": null,
      "id": "fd9fa8f8",
      "metadata": {
        "id": "fd9fa8f8",
        "outputId": "6cf9426d-837d-4ce8-97cc-0ce45e50482e"
      },
      "outputs": [
        {
          "name": "stdout",
          "output_type": "stream",
          "text": [
            "0.18\n"
          ]
        }
      ],
      "source": [
        "from sklearn.metrics import mean_absolute_error\n",
        "y_true = [2, 4, 5, 4, 5]\n",
        "y_pred = [2.2, 3.8, 4.7, 3.9, 5.1]\n",
        "mae = mean_absolute_error(y_true, y_pred)\n",
        "print(mae)"
      ]
    },
    {
      "cell_type": "markdown",
      "id": "5bbc9320",
      "metadata": {
        "id": "5bbc9320"
      },
      "source": [
        "### 4. Mean Squared Error (MSE):\n",
        "\n",
        "* MSE measures the average of the squared errors between predicted values and actual values in a regression model.\n",
        "* MSE penalizes larger errors more heavily than MAE.\n",
        "* Smaller MSE values indicate better model performance.\n",
        "\n",
        "Python Code (Calculating MSE):"
      ]
    },
    {
      "cell_type": "code",
      "execution_count": null,
      "id": "feedc505",
      "metadata": {
        "id": "feedc505",
        "outputId": "cb09bc96-7642-4e9b-faba-02b42ed2c50c"
      },
      "outputs": [
        {
          "name": "stdout",
          "output_type": "stream",
          "text": [
            "0.03799999999999999\n"
          ]
        }
      ],
      "source": [
        "from sklearn.metrics import mean_squared_error\n",
        "y_true = [2, 4, 5, 4, 5]\n",
        "y_pred = [2.2, 3.8, 4.7, 3.9, 5.1]\n",
        "mse = mean_squared_error(y_true, y_pred)\n",
        "print(mse)"
      ]
    },
    {
      "cell_type": "markdown",
      "id": "0fe8ce47",
      "metadata": {
        "id": "0fe8ce47"
      },
      "source": [
        "### 5. Adjusted R-squared:\n",
        "\n",
        "* Adjusted R-squared is a modified version of R-squared that accounts for the number of independent variables in a regression model.\n",
        "* It penalizes the addition of irrelevant variables and rewards the inclusion of relevant variables.\n",
        "* A higher adjusted R-squared suggests a more parsimonious model.\n",
        "\n",
        "You typically calculate adjusted R-squared manually by considering the formula, but it's not available directly as a function in scikit-learn."
      ]
    },
    {
      "cell_type": "markdown",
      "id": "aa688efe",
      "metadata": {
        "id": "aa688efe"
      },
      "source": [
        "# Chapter 18: Types of Encoding Techniques\n",
        "\n",
        "\n",
        "`Encoding` techniques are essential in machine learning and data analysis when dealing with `categorical` data. Categorical data refers to data that consists of categories or labels rather than numerical values. Encoding transforms categorical data into a numerical format, allowing machine learning models to work with them effectively. Here are some common types of encoding techniques:"
      ]
    },
    {
      "cell_type": "markdown",
      "id": "55dea48c",
      "metadata": {
        "id": "55dea48c"
      },
      "source": [
        "### 1. Label Encoding:\n",
        "\n",
        "* Label encoding assigns a unique integer (or label) to each category in a categorical variable.\n",
        "* It is suitable for ordinal categorical data, where the order of categories matters.\n",
        "* Example: Converting [\"Small\", \"Medium\", \"Large\"] to [0, 1, 2].\n",
        "\n",
        "Python Code (Label Encoding using scikit-learn):"
      ]
    },
    {
      "cell_type": "markdown",
      "source": [
        "![hello](https://drive.google.com/uc?export=view&id=1y3k_cS3VjYaRsFUi_pQWZEOKWDsEiO_I)\n"
      ],
      "metadata": {
        "id": "CrdV_fqwzsoV"
      },
      "id": "CrdV_fqwzsoV"
    },
    {
      "cell_type": "code",
      "execution_count": null,
      "id": "b270b7bd",
      "metadata": {
        "id": "b270b7bd",
        "outputId": "665dbb46-1cc2-46c0-9d14-16c8ff2943f4"
      },
      "outputs": [
        {
          "data": {
            "text/plain": [
              "array([2, 1, 0], dtype=int64)"
            ]
          },
          "execution_count": 12,
          "metadata": {},
          "output_type": "execute_result"
        }
      ],
      "source": [
        "from sklearn.preprocessing import LabelEncoder\n",
        "\n",
        "# Create an instance of LabelEncoder\n",
        "encoder = LabelEncoder()\n",
        "\n",
        "# Encode the categorical labels\n",
        "encoded_labels = encoder.fit_transform([\"Small\", \"Medium\", \"Large\"])\n",
        "\n",
        "# Display the encoded labels\n",
        "encoded_labels\n"
      ]
    },
    {
      "cell_type": "markdown",
      "id": "89d5b229",
      "metadata": {
        "id": "89d5b229"
      },
      "source": [
        "### 2. One-Hot Encoding:\n",
        "\n",
        "* One-hot encoding converts each category into a binary vector, where each category is represented by a unique binary digit (1 or 0).\n",
        "* It is suitable for nominal categorical data, where there is no inherent order among categories.\n",
        "* It prevents the model from assuming ordinal relationships between categories.\n",
        "* Example: [\"Red\", \"Green\", \"Blue\"] might be encoded as [[1, 0, 0], [0, 1, 0], [0, 0, 1]].\n",
        "\n",
        "example code(One-Hot Encoding using pandas):"
      ]
    },
    {
      "cell_type": "markdown",
      "source": [
        "![hello](https://drive.google.com/uc?export=view&id=17732H9KkAosbMOxgEkAY573XXaTSK5bo)\n"
      ],
      "metadata": {
        "id": "Zt5ppadtzuUI"
      },
      "id": "Zt5ppadtzuUI"
    },
    {
      "cell_type": "markdown",
      "id": "18fbc9eb",
      "metadata": {
        "id": "18fbc9eb"
      },
      "source": [
        "<h4>get dummies method:</h4>"
      ]
    },
    {
      "cell_type": "code",
      "execution_count": null,
      "id": "0defe4cd",
      "metadata": {
        "id": "0defe4cd",
        "outputId": "5e1cd585-701d-4205-f6f2-bb3064656a1e"
      },
      "outputs": [
        {
          "data": {
            "text/html": [
              "<div>\n",
              "<style scoped>\n",
              "    .dataframe tbody tr th:only-of-type {\n",
              "        vertical-align: middle;\n",
              "    }\n",
              "\n",
              "    .dataframe tbody tr th {\n",
              "        vertical-align: top;\n",
              "    }\n",
              "\n",
              "    .dataframe thead th {\n",
              "        text-align: right;\n",
              "    }\n",
              "</style>\n",
              "<table border=\"1\" class=\"dataframe\">\n",
              "  <thead>\n",
              "    <tr style=\"text-align: right;\">\n",
              "      <th></th>\n",
              "      <th>Color_Blue</th>\n",
              "      <th>Color_Green</th>\n",
              "      <th>Color_Red</th>\n",
              "    </tr>\n",
              "  </thead>\n",
              "  <tbody>\n",
              "    <tr>\n",
              "      <th>0</th>\n",
              "      <td>False</td>\n",
              "      <td>False</td>\n",
              "      <td>True</td>\n",
              "    </tr>\n",
              "    <tr>\n",
              "      <th>1</th>\n",
              "      <td>False</td>\n",
              "      <td>True</td>\n",
              "      <td>False</td>\n",
              "    </tr>\n",
              "    <tr>\n",
              "      <th>2</th>\n",
              "      <td>True</td>\n",
              "      <td>False</td>\n",
              "      <td>False</td>\n",
              "    </tr>\n",
              "  </tbody>\n",
              "</table>\n",
              "</div>"
            ],
            "text/plain": [
              "   Color_Blue  Color_Green  Color_Red\n",
              "0       False        False       True\n",
              "1       False         True      False\n",
              "2        True        False      False"
            ]
          },
          "execution_count": 9,
          "metadata": {},
          "output_type": "execute_result"
        }
      ],
      "source": [
        "import pandas as pd\n",
        "\n",
        "# Create a DataFrame with a \"Color\" column containing categorical values\n",
        "data = pd.DataFrame({\"Color\": [\"Red\", \"Green\", \"Blue\"]})\n",
        "\n",
        "# Apply one-hot encoding to the \"Color\" column\n",
        "data_encoded = pd.get_dummies(data, columns=[\"Color\"])\n",
        "\n",
        "# Display the DataFrame with one-hot encoding\n",
        "data_encoded\n"
      ]
    },
    {
      "cell_type": "markdown",
      "id": "e03af189",
      "metadata": {
        "id": "e03af189"
      },
      "source": [
        "<h4>one hot encoder method:</h4>"
      ]
    },
    {
      "cell_type": "code",
      "execution_count": null,
      "id": "70a42b46",
      "metadata": {
        "id": "70a42b46",
        "outputId": "979faf14-b083-4232-f73b-b92f6081598b"
      },
      "outputs": [
        {
          "data": {
            "text/html": [
              "<div>\n",
              "<style scoped>\n",
              "    .dataframe tbody tr th:only-of-type {\n",
              "        vertical-align: middle;\n",
              "    }\n",
              "\n",
              "    .dataframe tbody tr th {\n",
              "        vertical-align: top;\n",
              "    }\n",
              "\n",
              "    .dataframe thead th {\n",
              "        text-align: right;\n",
              "    }\n",
              "</style>\n",
              "<table border=\"1\" class=\"dataframe\">\n",
              "  <thead>\n",
              "    <tr style=\"text-align: right;\">\n",
              "      <th></th>\n",
              "      <th>Color_Blue</th>\n",
              "      <th>Color_Green</th>\n",
              "      <th>Color_Red</th>\n",
              "    </tr>\n",
              "  </thead>\n",
              "  <tbody>\n",
              "    <tr>\n",
              "      <th>0</th>\n",
              "      <td>0.0</td>\n",
              "      <td>0.0</td>\n",
              "      <td>1.0</td>\n",
              "    </tr>\n",
              "    <tr>\n",
              "      <th>1</th>\n",
              "      <td>0.0</td>\n",
              "      <td>1.0</td>\n",
              "      <td>0.0</td>\n",
              "    </tr>\n",
              "    <tr>\n",
              "      <th>2</th>\n",
              "      <td>1.0</td>\n",
              "      <td>0.0</td>\n",
              "      <td>0.0</td>\n",
              "    </tr>\n",
              "  </tbody>\n",
              "</table>\n",
              "</div>"
            ],
            "text/plain": [
              "   Color_Blue  Color_Green  Color_Red\n",
              "0         0.0          0.0        1.0\n",
              "1         0.0          1.0        0.0\n",
              "2         1.0          0.0        0.0"
            ]
          },
          "execution_count": 10,
          "metadata": {},
          "output_type": "execute_result"
        }
      ],
      "source": [
        "import pandas as pd\n",
        "from sklearn.preprocessing import OneHotEncoder\n",
        "\n",
        "# Create a DataFrame with a \"Color\" column containing categorical values\n",
        "data = pd.DataFrame({\"Color\": [\"Red\", \"Green\", \"Blue\"]})\n",
        "\n",
        "# Create an instance of the OneHotEncoder\n",
        "encoder = OneHotEncoder(sparse=False)\n",
        "\n",
        "# Fit and transform the encoder on the \"Color\" column\n",
        "data_encoded = encoder.fit_transform(data[[\"Color\"]])\n",
        "\n",
        "# Create a new DataFrame with the one-hot encoded columns\n",
        "data_encoded_df = pd.DataFrame(data_encoded, columns=encoder.get_feature_names_out([\"Color\"]))\n",
        "\n",
        "# Display the DataFrame with one-hot encoding\n",
        "data_encoded_df\n"
      ]
    },
    {
      "cell_type": "markdown",
      "id": "c9e6d44e",
      "metadata": {
        "id": "c9e6d44e"
      },
      "source": [
        "### 3. Binary Encoding:\n",
        "\n",
        "* Binary encoding combines aspects of label encoding and one-hot encoding.\n",
        "* It first converts categories to numerical labels, then converts the labels to binary code, and each digit of the binary code becomes a separate feature.\n",
        "* It reduces dimensionality compared to one-hot encoding while still handling nominal data.\n",
        "\n",
        "Python Code (Binary Encoding using category_encoders library):"
      ]
    },
    {
      "cell_type": "code",
      "execution_count": null,
      "id": "da7d1538",
      "metadata": {
        "id": "da7d1538",
        "outputId": "3893e8b0-d737-4faa-a0b4-d4206166c2f2"
      },
      "outputs": [
        {
          "data": {
            "text/html": [
              "<div>\n",
              "<style scoped>\n",
              "    .dataframe tbody tr th:only-of-type {\n",
              "        vertical-align: middle;\n",
              "    }\n",
              "\n",
              "    .dataframe tbody tr th {\n",
              "        vertical-align: top;\n",
              "    }\n",
              "\n",
              "    .dataframe thead th {\n",
              "        text-align: right;\n",
              "    }\n",
              "</style>\n",
              "<table border=\"1\" class=\"dataframe\">\n",
              "  <thead>\n",
              "    <tr style=\"text-align: right;\">\n",
              "      <th></th>\n",
              "      <th>Color_0</th>\n",
              "      <th>Color_1</th>\n",
              "    </tr>\n",
              "  </thead>\n",
              "  <tbody>\n",
              "    <tr>\n",
              "      <th>0</th>\n",
              "      <td>0</td>\n",
              "      <td>1</td>\n",
              "    </tr>\n",
              "    <tr>\n",
              "      <th>1</th>\n",
              "      <td>1</td>\n",
              "      <td>0</td>\n",
              "    </tr>\n",
              "    <tr>\n",
              "      <th>2</th>\n",
              "      <td>1</td>\n",
              "      <td>1</td>\n",
              "    </tr>\n",
              "  </tbody>\n",
              "</table>\n",
              "</div>"
            ],
            "text/plain": [
              "   Color_0  Color_1\n",
              "0        0        1\n",
              "1        1        0\n",
              "2        1        1"
            ]
          },
          "execution_count": 4,
          "metadata": {},
          "output_type": "execute_result"
        }
      ],
      "source": [
        "import pandas as pd\n",
        "import category_encoders as ce\n",
        "\n",
        "# Create a DataFrame with the \"Color\" column\n",
        "data = pd.DataFrame({\"Color\": [\"Red\", \"Green\", \"Blue\"]})\n",
        "\n",
        "# Create an instance of the BinaryEncoder\n",
        "encoder = ce.BinaryEncoder(cols=[\"Color\"])\n",
        "\n",
        "# Fit and transform the encoder on the DataFrame\n",
        "encoded_data = encoder.fit_transform(data)\n",
        "\n",
        "# Display the encoded data\n",
        "encoded_data\n"
      ]
    },
    {
      "cell_type": "markdown",
      "id": "574f43f5",
      "metadata": {
        "id": "574f43f5"
      },
      "source": [
        "### 4. Frequency Encoding:\n",
        "\n",
        "* Frequency encoding replaces categories with their frequencies (counts) in the dataset.\n",
        "* It can be useful when the frequency of occurrence of a category is informative for the problem.\n",
        "* It may not be suitable for categories with very similar frequencies.\n",
        "\n",
        "Python Code (Frequency Encoding using pandas):"
      ]
    },
    {
      "cell_type": "code",
      "execution_count": null,
      "id": "5d44cb79",
      "metadata": {
        "id": "5d44cb79",
        "outputId": "e399a0ff-d8fd-4c04-a4de-d85eac8adc45"
      },
      "outputs": [
        {
          "data": {
            "text/html": [
              "<div>\n",
              "<style scoped>\n",
              "    .dataframe tbody tr th:only-of-type {\n",
              "        vertical-align: middle;\n",
              "    }\n",
              "\n",
              "    .dataframe tbody tr th {\n",
              "        vertical-align: top;\n",
              "    }\n",
              "\n",
              "    .dataframe thead th {\n",
              "        text-align: right;\n",
              "    }\n",
              "</style>\n",
              "<table border=\"1\" class=\"dataframe\">\n",
              "  <thead>\n",
              "    <tr style=\"text-align: right;\">\n",
              "      <th></th>\n",
              "      <th>Color</th>\n",
              "    </tr>\n",
              "  </thead>\n",
              "  <tbody>\n",
              "    <tr>\n",
              "      <th>0</th>\n",
              "      <td>0.4</td>\n",
              "    </tr>\n",
              "    <tr>\n",
              "      <th>1</th>\n",
              "      <td>0.4</td>\n",
              "    </tr>\n",
              "    <tr>\n",
              "      <th>2</th>\n",
              "      <td>0.2</td>\n",
              "    </tr>\n",
              "    <tr>\n",
              "      <th>3</th>\n",
              "      <td>0.4</td>\n",
              "    </tr>\n",
              "    <tr>\n",
              "      <th>4</th>\n",
              "      <td>0.4</td>\n",
              "    </tr>\n",
              "  </tbody>\n",
              "</table>\n",
              "</div>"
            ],
            "text/plain": [
              "   Color\n",
              "0    0.4\n",
              "1    0.4\n",
              "2    0.2\n",
              "3    0.4\n",
              "4    0.4"
            ]
          },
          "execution_count": 12,
          "metadata": {},
          "output_type": "execute_result"
        }
      ],
      "source": [
        "import pandas as pd\n",
        "data = pd.DataFrame({\"Color\": [\"Red\", \"Green\", \"Blue\", \"Red\", \"Green\"]})\n",
        "freq_encoding = data['Color'].value_counts(normalize=True).to_dict()\n",
        "data['Color'] = data['Color'].map(freq_encoding)\n",
        "data"
      ]
    },
    {
      "cell_type": "markdown",
      "id": "f60628a9",
      "metadata": {
        "id": "f60628a9"
      },
      "source": [
        "### 5. Target Encoding (Mean Encoding):\n",
        "\n",
        "* Target encoding uses the mean of the target variable for each category as the encoded value.\n",
        "* It is particularly useful for classification tasks when dealing with high-cardinality categorical variables.\n",
        "* It can lead to leakage if not used properly (e.g., target leakage), so care must be taken to avoid overfitting.\n",
        "\n",
        "Python Code (Target Encoding using pandas):"
      ]
    },
    {
      "cell_type": "markdown",
      "source": [
        "![hello](https://drive.google.com/uc?export=view&id=172s5b4BIPMSlH8LOO4Mw7gHgsH6AWP5h)\n"
      ],
      "metadata": {
        "id": "NQEnXAwKzyKS"
      },
      "id": "NQEnXAwKzyKS"
    },
    {
      "cell_type": "code",
      "execution_count": null,
      "id": "c47d3857",
      "metadata": {
        "id": "c47d3857",
        "outputId": "77948b91-1d83-484f-92e5-3f8ad9936e6b"
      },
      "outputs": [
        {
          "data": {
            "text/html": [
              "<div>\n",
              "<style scoped>\n",
              "    .dataframe tbody tr th:only-of-type {\n",
              "        vertical-align: middle;\n",
              "    }\n",
              "\n",
              "    .dataframe tbody tr th {\n",
              "        vertical-align: top;\n",
              "    }\n",
              "\n",
              "    .dataframe thead th {\n",
              "        text-align: right;\n",
              "    }\n",
              "</style>\n",
              "<table border=\"1\" class=\"dataframe\">\n",
              "  <thead>\n",
              "    <tr style=\"text-align: right;\">\n",
              "      <th></th>\n",
              "      <th>Category</th>\n",
              "      <th>Target</th>\n",
              "      <th>Category_Encoded</th>\n",
              "    </tr>\n",
              "  </thead>\n",
              "  <tbody>\n",
              "    <tr>\n",
              "      <th>0</th>\n",
              "      <td>A</td>\n",
              "      <td>1</td>\n",
              "      <td>1.000000</td>\n",
              "    </tr>\n",
              "    <tr>\n",
              "      <th>1</th>\n",
              "      <td>B</td>\n",
              "      <td>0</td>\n",
              "      <td>0.333333</td>\n",
              "    </tr>\n",
              "    <tr>\n",
              "      <th>2</th>\n",
              "      <td>A</td>\n",
              "      <td>1</td>\n",
              "      <td>1.000000</td>\n",
              "    </tr>\n",
              "    <tr>\n",
              "      <th>3</th>\n",
              "      <td>B</td>\n",
              "      <td>0</td>\n",
              "      <td>0.333333</td>\n",
              "    </tr>\n",
              "    <tr>\n",
              "      <th>4</th>\n",
              "      <td>B</td>\n",
              "      <td>1</td>\n",
              "      <td>0.333333</td>\n",
              "    </tr>\n",
              "  </tbody>\n",
              "</table>\n",
              "</div>"
            ],
            "text/plain": [
              "  Category  Target  Category_Encoded\n",
              "0        A       1          1.000000\n",
              "1        B       0          0.333333\n",
              "2        A       1          1.000000\n",
              "3        B       0          0.333333\n",
              "4        B       1          0.333333"
            ]
          },
          "execution_count": 2,
          "metadata": {},
          "output_type": "execute_result"
        }
      ],
      "source": [
        "import pandas as pd\n",
        "data = pd.DataFrame({\"Category\": [\"A\", \"B\", \"A\", \"B\", \"B\"], \"Target\": [1, 0, 1, 0, 1]})\n",
        "mean_encoding = data.groupby(\"Category\")[\"Target\"].mean().to_dict()\n",
        "data[\"Category_Encoded\"] = data[\"Category\"].map(mean_encoding)\n",
        "data\n"
      ]
    },
    {
      "cell_type": "markdown",
      "id": "8f5be290",
      "metadata": {
        "id": "8f5be290"
      },
      "source": [
        "### 6. Ordinal Encoding:\n",
        "\n",
        "* Ordinal encoding is used for ordinal categorical variables, where categories have a meaningful order.\n",
        "* It assigns numerical values to categories based on their order, preserving the ordinal relationship.\n",
        "* Example: [\"Low\", \"Medium\", \"High\"] might be encoded as [1, 2, 3].\n",
        "\n",
        "Python Code (Ordinal Encoding using a custom mapping dictionary):"
      ]
    },
    {
      "cell_type": "markdown",
      "source": [
        "![hello](https://drive.google.com/uc?export=view&id=1J1lHaf1y5EKLvy3XuT-6kg5olkACzhiO)\n"
      ],
      "metadata": {
        "id": "8EtjdiVUz0Vf"
      },
      "id": "8EtjdiVUz0Vf"
    },
    {
      "cell_type": "code",
      "execution_count": null,
      "id": "1d725f58",
      "metadata": {
        "id": "1d725f58",
        "outputId": "cdd7e269-d750-49ff-8f93-b67c148e5efe"
      },
      "outputs": [
        {
          "data": {
            "text/html": [
              "<div>\n",
              "<style scoped>\n",
              "    .dataframe tbody tr th:only-of-type {\n",
              "        vertical-align: middle;\n",
              "    }\n",
              "\n",
              "    .dataframe tbody tr th {\n",
              "        vertical-align: top;\n",
              "    }\n",
              "\n",
              "    .dataframe thead th {\n",
              "        text-align: right;\n",
              "    }\n",
              "</style>\n",
              "<table border=\"1\" class=\"dataframe\">\n",
              "  <thead>\n",
              "    <tr style=\"text-align: right;\">\n",
              "      <th></th>\n",
              "      <th>Category</th>\n",
              "      <th>ordinal_encoding</th>\n",
              "    </tr>\n",
              "  </thead>\n",
              "  <tbody>\n",
              "    <tr>\n",
              "      <th>0</th>\n",
              "      <td>Low</td>\n",
              "      <td>1</td>\n",
              "    </tr>\n",
              "    <tr>\n",
              "      <th>1</th>\n",
              "      <td>Medium</td>\n",
              "      <td>2</td>\n",
              "    </tr>\n",
              "    <tr>\n",
              "      <th>2</th>\n",
              "      <td>High</td>\n",
              "      <td>3</td>\n",
              "    </tr>\n",
              "    <tr>\n",
              "      <th>3</th>\n",
              "      <td>Low</td>\n",
              "      <td>1</td>\n",
              "    </tr>\n",
              "    <tr>\n",
              "      <th>4</th>\n",
              "      <td>High</td>\n",
              "      <td>3</td>\n",
              "    </tr>\n",
              "  </tbody>\n",
              "</table>\n",
              "</div>"
            ],
            "text/plain": [
              "  Category  ordinal_encoding\n",
              "0      Low                 1\n",
              "1   Medium                 2\n",
              "2     High                 3\n",
              "3      Low                 1\n",
              "4     High                 3"
            ]
          },
          "execution_count": 8,
          "metadata": {},
          "output_type": "execute_result"
        }
      ],
      "source": [
        "import pandas as pd\n",
        "\n",
        "# Sample DataFrame with a \"Category\" column\n",
        "data = pd.DataFrame({\"Category\": [\"Low\", \"Medium\", \"High\", \"Low\", \"High\"]})\n",
        "\n",
        "# Define the mapping dictionary\n",
        "mapping = {\"Low\": 1, \"Medium\": 2, \"High\": 3}\n",
        "\n",
        "# Apply ordinal encoding to the \"Category\" column in your DataFrame\n",
        "data[\"ordinal_encoding\"] = data[\"Category\"].map(mapping)\n",
        "\n",
        "# Display the DataFrame with the ordinal encoding\n",
        "data\n"
      ]
    },
    {
      "cell_type": "markdown",
      "source": [
        "![hello](https://drive.google.com/uc?export=view&id=130rkOnI9QySxOAM4QcjcH01Na8VN6wA5)"
      ],
      "metadata": {
        "id": "Vm6x8h8yz2G9"
      },
      "id": "Vm6x8h8yz2G9"
    }
  ],
  "metadata": {
    "kernelspec": {
      "display_name": "Python 3 (ipykernel)",
      "language": "python",
      "name": "python3"
    },
    "language_info": {
      "codemirror_mode": {
        "name": "ipython",
        "version": 3
      },
      "file_extension": ".py",
      "mimetype": "text/x-python",
      "name": "python",
      "nbconvert_exporter": "python",
      "pygments_lexer": "ipython3",
      "version": "3.9.12"
    },
    "colab": {
      "provenance": [],
      "include_colab_link": true
    }
  },
  "nbformat": 4,
  "nbformat_minor": 5
}